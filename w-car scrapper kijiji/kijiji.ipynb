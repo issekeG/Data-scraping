{
 "cells": [
  {
   "cell_type": "markdown",
   "id": "ecfb746b",
   "metadata": {},
   "source": [
    "Author: Gickel OKABI\n",
    "\n",
    "Python developer\n",
    "\n",
    "mail : i.gickelokabi@gmail.com"
   ]
  },
  {
   "cell_type": "markdown",
   "id": "b40119c5",
   "metadata": {},
   "source": [
    "."
   ]
  },
  {
   "cell_type": "markdown",
   "id": "3906f507",
   "metadata": {},
   "source": [
    "CAR SALE SCRAPING for Kijiji\n",
    "We need a pyhton 3 script to get us cars for sale on the following sites:\n",
    "Kijiji.ca to save  to CSV\n",
    "\n",
    "-search limiters\n",
    "\n",
    "•\tSUV\n",
    "\n",
    "•\t2017 or newer\n",
    "\n",
    "•\tless than 80,000km\n",
    "\n",
    "•\tless than 1000km from L5B 0G5 (Ontario and Quebec on Kijiji but \n",
    "\n",
    "•\tless than $25,000\n",
    "\n",
    "\n",
    "KIJIJI\n",
    "https://www.kijiji.ca/b-cars-trucks/ontario/suv/2017__/k0c174l9004a68?price=__25000&kilometers=__80000\n",
    "\n",
    "Autotrader\n",
    "https://www.autotrader.ca/cars/on/mississauga/?rcp=15&rcs=0&srt=4&yRng=2017%2C&pRng=%2C25000&oRng=%2C80000&prx=1000&prv=Ontario&loc=mississauga&body=SUV&hprc=True&wcp=True&sts=New-Used&inMarket=advancedSearch\n",
    "\n",
    "Details to collect\n",
    "\n",
    "1.\tPage URL\n",
    "2.\tMake\n",
    "3.\tModel\n",
    "4.\tMileage/Kilometers\n",
    "5.\tStatus/condition (e.g. new/used)\n",
    "6.\tTransmission\n",
    "7.\tDescription"
   ]
  },
  {
   "cell_type": "code",
   "execution_count": 1,
   "id": "40e6bd3a",
   "metadata": {},
   "outputs": [],
   "source": [
    "import re\n",
    "import requests\n",
    "from bs4 import BeautifulSoup\n",
    "import pandas as pd\n",
    "from selenium import webdriver\n",
    "import time\n",
    "from itertools import cycle\n"
   ]
  },
  {
   "cell_type": "code",
   "execution_count": 2,
   "id": "70d4846e",
   "metadata": {},
   "outputs": [],
   "source": [
    "headers = {\n",
    "    'Referer': 'https://www.kijiji.ca/',\n",
    "    'Sec-Ch-Ua': 'v=\"Chromium\";v=\"114\", \" Not A;Brand\";v=\"8\", \"Google Chrome\";v=\"114\"',\n",
    "\n",
    "    'Sec-Ch-Ua-Mobile': '?0',\n",
    "    'Sec-Ch-Ua-Platform': \"Windows\",\n",
    "    'Upgrade-Insecure-Requests': '1',\n",
    "    'User-Agent': 'Mozilla/5.0 (Windows NT 10.0; Win64; x64) AppleWebKit/537.36 (KHTML, like Gecko) Chrome/114.0.0.0 Safari/537.36'\n",
    "    }\n",
    "    "
   ]
  },
  {
   "cell_type": "markdown",
   "id": "8d2ba27e",
   "metadata": {},
   "source": [
    "# 1 : Obtain proxies\n"
   ]
  },
  {
   "cell_type": "markdown",
   "id": "11457ffa",
   "metadata": {},
   "source": [
    "First, we need to collect free proxies from the internet to avoid detection.\n",
    "\n",
    "We will use selenium to load pages that support javascript"
   ]
  },
  {
   "cell_type": "markdown",
   "id": "69f6a03f",
   "metadata": {},
   "source": [
    "."
   ]
  },
  {
   "cell_type": "code",
   "execution_count": 3,
   "id": "ce42962d",
   "metadata": {},
   "outputs": [],
   "source": [
    "#Importing the necessary libraries\n",
    "\n",
    "\n",
    "from selenium import webdriver\n",
    "from selenium.webdriver.common.by import By\n",
    "from selenium.webdriver.support.ui import WebDriverWait\n",
    "from selenium.webdriver.chrome.options import Options\n",
    "from selenium.webdriver.support import expected_conditions as EC\n",
    "\n",
    "chrome_options = Options()\n",
    "chrome_options.add_argument(\"--headless\") \n",
    "driver = webdriver.Chrome(options=chrome_options)"
   ]
  },
  {
   "cell_type": "markdown",
   "id": "57d9c80b",
   "metadata": {},
   "source": [
    "."
   ]
  },
  {
   "cell_type": "markdown",
   "id": "e4e19923",
   "metadata": {},
   "source": [
    "The links of the selected proxy sites"
   ]
  },
  {
   "cell_type": "code",
   "execution_count": 30,
   "id": "eda176d5",
   "metadata": {},
   "outputs": [],
   "source": [
    "free_url = \"http://free-proxy.cz/en/proxylist/country/all/https/ping/all\"\n",
    "free_proxy_url = \"https://free-proxy-list.net/\"\n",
    "proxyscrape_url = 'https://proxyscrape.com/free-proxy-list'\n",
    "hidemy_rul = 'https://hidemy.name/en/proxy-list/?type=s#list'"
   ]
  },
  {
   "cell_type": "markdown",
   "id": "a20fe3da",
   "metadata": {},
   "source": [
    "## Proxyscrape"
   ]
  },
  {
   "cell_type": "code",
   "execution_count": 5,
   "id": "ac9effd7",
   "metadata": {},
   "outputs": [],
   "source": [
    "driver.get(proxyscrape_url)\n",
    "\n",
    "time.sleep(15)"
   ]
  },
  {
   "cell_type": "code",
   "execution_count": 6,
   "id": "ffb89eed",
   "metadata": {},
   "outputs": [],
   "source": [
    "proxyscrape_data = pd.read_html(driver.page_source)[0]"
   ]
  },
  {
   "cell_type": "code",
   "execution_count": 7,
   "id": "2bf8d48c",
   "metadata": {},
   "outputs": [
    {
     "data": {
      "text/plain": [
       "(400, 8)"
      ]
     },
     "execution_count": 7,
     "metadata": {},
     "output_type": "execute_result"
    }
   ],
   "source": [
    "proxyscrape_data.shape"
   ]
  },
  {
   "cell_type": "code",
   "execution_count": 8,
   "id": "c8585a7c",
   "metadata": {},
   "outputs": [
    {
     "data": {
      "text/html": [
       "<div>\n",
       "<style scoped>\n",
       "    .dataframe tbody tr th:only-of-type {\n",
       "        vertical-align: middle;\n",
       "    }\n",
       "\n",
       "    .dataframe tbody tr th {\n",
       "        vertical-align: top;\n",
       "    }\n",
       "\n",
       "    .dataframe thead th {\n",
       "        text-align: right;\n",
       "    }\n",
       "</style>\n",
       "<table border=\"1\" class=\"dataframe\">\n",
       "  <thead>\n",
       "    <tr style=\"text-align: right;\">\n",
       "      <th></th>\n",
       "      <th>IP Address</th>\n",
       "      <th>Port</th>\n",
       "      <th>Protocol</th>\n",
       "      <th>Country</th>\n",
       "      <th>Anonymity</th>\n",
       "      <th>Latency</th>\n",
       "      <th>Uptime</th>\n",
       "      <th>Alive since</th>\n",
       "    </tr>\n",
       "  </thead>\n",
       "  <tbody>\n",
       "    <tr>\n",
       "      <th>0</th>\n",
       "      <td>98.170.57.231</td>\n",
       "      <td>4145</td>\n",
       "      <td>Socks5</td>\n",
       "      <td>United States</td>\n",
       "      <td>Elite</td>\n",
       "      <td>3006ms</td>\n",
       "      <td>82.5%</td>\n",
       "      <td>3 hours</td>\n",
       "    </tr>\n",
       "    <tr>\n",
       "      <th>1</th>\n",
       "      <td>200.123.29.45</td>\n",
       "      <td>3128</td>\n",
       "      <td>HTTP</td>\n",
       "      <td>Peru</td>\n",
       "      <td>Anonymous</td>\n",
       "      <td>4588ms</td>\n",
       "      <td>31.9%</td>\n",
       "      <td>17 minutes</td>\n",
       "    </tr>\n",
       "    <tr>\n",
       "      <th>2</th>\n",
       "      <td>192.111.130.2</td>\n",
       "      <td>4145</td>\n",
       "      <td>Socks5</td>\n",
       "      <td>United States</td>\n",
       "      <td>Elite</td>\n",
       "      <td>870ms</td>\n",
       "      <td>73.7%</td>\n",
       "      <td>40 minutes</td>\n",
       "    </tr>\n",
       "    <tr>\n",
       "      <th>3</th>\n",
       "      <td>185.211.57.74</td>\n",
       "      <td>4002</td>\n",
       "      <td>HTTP</td>\n",
       "      <td>Iran</td>\n",
       "      <td>Anonymous</td>\n",
       "      <td>2949ms</td>\n",
       "      <td>99.6%</td>\n",
       "      <td>8 hours</td>\n",
       "    </tr>\n",
       "    <tr>\n",
       "      <th>4</th>\n",
       "      <td>222.88.167.22</td>\n",
       "      <td>9002</td>\n",
       "      <td>HTTP</td>\n",
       "      <td>China</td>\n",
       "      <td>Elite</td>\n",
       "      <td>1143ms</td>\n",
       "      <td>33.6%</td>\n",
       "      <td>16 minutes</td>\n",
       "    </tr>\n",
       "  </tbody>\n",
       "</table>\n",
       "</div>"
      ],
      "text/plain": [
       "      IP Address  Port Protocol        Country  Anonymity Latency Uptime  \\\n",
       "0  98.170.57.231  4145   Socks5  United States      Elite  3006ms  82.5%   \n",
       "1  200.123.29.45  3128     HTTP           Peru  Anonymous  4588ms  31.9%   \n",
       "2  192.111.130.2  4145   Socks5  United States      Elite   870ms  73.7%   \n",
       "3  185.211.57.74  4002     HTTP           Iran  Anonymous  2949ms  99.6%   \n",
       "4  222.88.167.22  9002     HTTP          China      Elite  1143ms  33.6%   \n",
       "\n",
       "  Alive since  \n",
       "0     3 hours  \n",
       "1  17 minutes  \n",
       "2  40 minutes  \n",
       "3     8 hours  \n",
       "4  16 minutes  "
      ]
     },
     "execution_count": 8,
     "metadata": {},
     "output_type": "execute_result"
    }
   ],
   "source": [
    "proxyscrape_data.head(5)"
   ]
  },
  {
   "cell_type": "markdown",
   "id": "6dc3ac20",
   "metadata": {},
   "source": [
    "."
   ]
  },
  {
   "cell_type": "markdown",
   "id": "c821060c",
   "metadata": {},
   "source": [
    "## Free-proxy"
   ]
  },
  {
   "cell_type": "code",
   "execution_count": 9,
   "id": "5f6a7805",
   "metadata": {},
   "outputs": [],
   "source": [
    "free_proxy = requests.get(free_proxy_url,  headers=headers)"
   ]
  },
  {
   "cell_type": "code",
   "execution_count": 10,
   "id": "73adf75a",
   "metadata": {},
   "outputs": [],
   "source": [
    "free_proxy_data = pd.read_html(free_proxy.text)[0]"
   ]
  },
  {
   "cell_type": "code",
   "execution_count": 11,
   "id": "d387a9a9",
   "metadata": {},
   "outputs": [
    {
     "data": {
      "text/plain": [
       "(300, 8)"
      ]
     },
     "execution_count": 11,
     "metadata": {},
     "output_type": "execute_result"
    }
   ],
   "source": [
    "free_proxy_data.shape"
   ]
  },
  {
   "cell_type": "code",
   "execution_count": 12,
   "id": "8fe07602",
   "metadata": {},
   "outputs": [
    {
     "data": {
      "text/html": [
       "<div>\n",
       "<style scoped>\n",
       "    .dataframe tbody tr th:only-of-type {\n",
       "        vertical-align: middle;\n",
       "    }\n",
       "\n",
       "    .dataframe tbody tr th {\n",
       "        vertical-align: top;\n",
       "    }\n",
       "\n",
       "    .dataframe thead th {\n",
       "        text-align: right;\n",
       "    }\n",
       "</style>\n",
       "<table border=\"1\" class=\"dataframe\">\n",
       "  <thead>\n",
       "    <tr style=\"text-align: right;\">\n",
       "      <th></th>\n",
       "      <th>IP Address</th>\n",
       "      <th>Port</th>\n",
       "      <th>Code</th>\n",
       "      <th>Country</th>\n",
       "      <th>Anonymity</th>\n",
       "      <th>Google</th>\n",
       "      <th>Https</th>\n",
       "      <th>Last Checked</th>\n",
       "    </tr>\n",
       "  </thead>\n",
       "  <tbody>\n",
       "    <tr>\n",
       "      <th>0</th>\n",
       "      <td>123.202.159.108</td>\n",
       "      <td>80</td>\n",
       "      <td>HK</td>\n",
       "      <td>Hong Kong</td>\n",
       "      <td>anonymous</td>\n",
       "      <td>no</td>\n",
       "      <td>no</td>\n",
       "      <td>10 secs ago</td>\n",
       "    </tr>\n",
       "    <tr>\n",
       "      <th>1</th>\n",
       "      <td>178.33.3.163</td>\n",
       "      <td>8080</td>\n",
       "      <td>FR</td>\n",
       "      <td>France</td>\n",
       "      <td>elite proxy</td>\n",
       "      <td>no</td>\n",
       "      <td>yes</td>\n",
       "      <td>10 secs ago</td>\n",
       "    </tr>\n",
       "    <tr>\n",
       "      <th>2</th>\n",
       "      <td>58.27.59.249</td>\n",
       "      <td>80</td>\n",
       "      <td>MY</td>\n",
       "      <td>Malaysia</td>\n",
       "      <td>elite proxy</td>\n",
       "      <td>NaN</td>\n",
       "      <td>no</td>\n",
       "      <td>10 secs ago</td>\n",
       "    </tr>\n",
       "    <tr>\n",
       "      <th>3</th>\n",
       "      <td>103.216.103.163</td>\n",
       "      <td>80</td>\n",
       "      <td>HK</td>\n",
       "      <td>Hong Kong</td>\n",
       "      <td>anonymous</td>\n",
       "      <td>yes</td>\n",
       "      <td>no</td>\n",
       "      <td>10 secs ago</td>\n",
       "    </tr>\n",
       "    <tr>\n",
       "      <th>4</th>\n",
       "      <td>13.81.217.201</td>\n",
       "      <td>80</td>\n",
       "      <td>NL</td>\n",
       "      <td>Netherlands</td>\n",
       "      <td>elite proxy</td>\n",
       "      <td>NaN</td>\n",
       "      <td>no</td>\n",
       "      <td>10 secs ago</td>\n",
       "    </tr>\n",
       "  </tbody>\n",
       "</table>\n",
       "</div>"
      ],
      "text/plain": [
       "        IP Address  Port Code      Country    Anonymity Google Https  \\\n",
       "0  123.202.159.108    80   HK    Hong Kong    anonymous     no    no   \n",
       "1     178.33.3.163  8080   FR       France  elite proxy     no   yes   \n",
       "2     58.27.59.249    80   MY     Malaysia  elite proxy    NaN    no   \n",
       "3  103.216.103.163    80   HK    Hong Kong    anonymous    yes    no   \n",
       "4    13.81.217.201    80   NL  Netherlands  elite proxy    NaN    no   \n",
       "\n",
       "  Last Checked  \n",
       "0  10 secs ago  \n",
       "1  10 secs ago  \n",
       "2  10 secs ago  \n",
       "3  10 secs ago  \n",
       "4  10 secs ago  "
      ]
     },
     "execution_count": 12,
     "metadata": {},
     "output_type": "execute_result"
    }
   ],
   "source": [
    "free_proxy_data.head(5)"
   ]
  },
  {
   "cell_type": "markdown",
   "id": "2efea572",
   "metadata": {},
   "source": [
    "."
   ]
  },
  {
   "cell_type": "markdown",
   "id": "6ab1b8e5",
   "metadata": {},
   "source": [
    "## Hidemy "
   ]
  },
  {
   "cell_type": "code",
   "execution_count": null,
   "id": "b48804fb",
   "metadata": {},
   "outputs": [],
   "source": [
    "hidemy_request = requests.get(hidemy_rul)"
   ]
  },
  {
   "cell_type": "code",
   "execution_count": null,
   "id": "72081d7d",
   "metadata": {},
   "outputs": [],
   "source": [
    "hidemy_data = pd.read_html(hidemy_request.text)[0]"
   ]
  },
  {
   "cell_type": "code",
   "execution_count": null,
   "id": "19bc14f2",
   "metadata": {},
   "outputs": [],
   "source": [
    "hidemy_data.shape()"
   ]
  },
  {
   "cell_type": "code",
   "execution_count": null,
   "id": "a5705a60",
   "metadata": {},
   "outputs": [],
   "source": [
    "hidemy_data.head()"
   ]
  },
  {
   "cell_type": "markdown",
   "id": "f23d470a",
   "metadata": {},
   "source": [
    "."
   ]
  },
  {
   "cell_type": "markdown",
   "id": "3b4a1275",
   "metadata": {},
   "source": [
    "This function takes a dataframe parameter and returns a list of proxies taking into account the ip address and the port"
   ]
  },
  {
   "cell_type": "code",
   "execution_count": 13,
   "id": "50bdc8b7",
   "metadata": {},
   "outputs": [],
   "source": [
    "def prox_ip_liste(dataframe, ip_col, port_col):\n",
    "    proxi_liste = []\n",
    "    for i, row in dataframe.iterrows():\n",
    "        proxi_line = {}\n",
    "        proxi_line.update({'http': f'http://{row[ip_col]}:{row[port_col]}', 'https' : f'http://{row[ip_col]}:{row[port_col]}'})\n",
    "        proxi_liste.append(proxi_line)   \n",
    "    return proxi_liste  "
   ]
  },
  {
   "cell_type": "markdown",
   "id": "3f950bce",
   "metadata": {},
   "source": [
    "."
   ]
  },
  {
   "cell_type": "markdown",
   "id": "91489371",
   "metadata": {},
   "source": [
    "This function takes a parameter the list of selected proxies, it tests the validity. then it returns the list of valid proxies"
   ]
  },
  {
   "cell_type": "code",
   "execution_count": 14,
   "id": "156cf694",
   "metadata": {},
   "outputs": [],
   "source": [
    "def test_proxy(proxy_liste):\n",
    "    valide_proxies = []\n",
    "    url = 'https://www.kijiji.ca/'\n",
    "    i=0\n",
    "    for proxy in proxy_liste:\n",
    "        try:\n",
    "            response = requests.get(url, proxies=proxy, headers=headers, timeout=5)\n",
    "            if response.status_code == 200:\n",
    "                print('Proxy valide:', proxy)\n",
    "                valide_proxies.append(proxy)\n",
    "                i = i+1\n",
    "            else:\n",
    "                print('Proxy invalide:', proxy)\n",
    "        except requests.exceptions.RequestException as e:\n",
    "            print('Proxy invalide:', 'ereur')\n",
    "    print(i)\n",
    "    return valide_proxies"
   ]
  },
  {
   "cell_type": "markdown",
   "id": "d0cf7d73",
   "metadata": {},
   "source": [
    "."
   ]
  },
  {
   "cell_type": "code",
   "execution_count": 15,
   "id": "65b4ba77",
   "metadata": {},
   "outputs": [],
   "source": [
    "free_proxy_frame = prox_ip_liste(free_proxy_data, \"IP Address\", \"Port\")\n",
    "proxyscrape_frame = prox_ip_liste(free_proxy_data, \"IP Address\", \"Port\")"
   ]
  },
  {
   "cell_type": "code",
   "execution_count": 17,
   "id": "cd3aaa69",
   "metadata": {},
   "outputs": [
    {
     "data": {
      "text/plain": [
       "[{'http': 'http://123.202.159.108:80', 'https': 'http://123.202.159.108:80'},\n",
       " {'http': 'http://178.33.3.163:8080', 'https': 'http://178.33.3.163:8080'},\n",
       " {'http': 'http://58.27.59.249:80', 'https': 'http://58.27.59.249:80'},\n",
       " {'http': 'http://103.216.103.163:80', 'https': 'http://103.216.103.163:80'},\n",
       " {'http': 'http://13.81.217.201:80', 'https': 'http://13.81.217.201:80'}]"
      ]
     },
     "execution_count": 17,
     "metadata": {},
     "output_type": "execute_result"
    }
   ],
   "source": [
    "free_proxy_frame[:5]"
   ]
  },
  {
   "cell_type": "code",
   "execution_count": 18,
   "id": "7fd6a95e",
   "metadata": {},
   "outputs": [
    {
     "data": {
      "text/plain": [
       "[{'http': 'http://123.202.159.108:80', 'https': 'http://123.202.159.108:80'},\n",
       " {'http': 'http://178.33.3.163:8080', 'https': 'http://178.33.3.163:8080'},\n",
       " {'http': 'http://58.27.59.249:80', 'https': 'http://58.27.59.249:80'},\n",
       " {'http': 'http://103.216.103.163:80', 'https': 'http://103.216.103.163:80'},\n",
       " {'http': 'http://13.81.217.201:80', 'https': 'http://13.81.217.201:80'}]"
      ]
     },
     "execution_count": 18,
     "metadata": {},
     "output_type": "execute_result"
    }
   ],
   "source": [
    "proxyscrape_frame[:5]"
   ]
  },
  {
   "cell_type": "code",
   "execution_count": 19,
   "id": "757d035e",
   "metadata": {},
   "outputs": [],
   "source": [
    "proxy_liste = free_proxy_frame + proxyscrape_frame"
   ]
  },
  {
   "cell_type": "markdown",
   "id": "32cce06b",
   "metadata": {},
   "source": [
    "."
   ]
  },
  {
   "cell_type": "markdown",
   "id": "a2be0cfd",
   "metadata": {},
   "source": [
    "We now have the list of our valid proxies\n"
   ]
  },
  {
   "cell_type": "code",
   "execution_count": 29,
   "id": "36b08b69",
   "metadata": {},
   "outputs": [
    {
     "name": "stdout",
     "output_type": "stream",
     "text": [
      "Proxy valide: {'http': 'http://8.219.97.248:80', 'https': 'http://8.219.97.248:80'}\n",
      "Proxy valide: {'http': 'http://18.143.215.49:80', 'https': 'http://18.143.215.49:80'}\n",
      "Proxy valide: {'http': 'http://110.34.3.229:3128', 'https': 'http://110.34.3.229:3128'}\n",
      "Proxy valide: {'http': 'http://20.44.206.138:80', 'https': 'http://20.44.206.138:80'}\n",
      "Proxy valide: {'http': 'http://191.186.106.34:8080', 'https': 'http://191.186.106.34:8080'}\n",
      "Proxy invalide: ereur\n",
      "Proxy invalide: ereur\n",
      "Proxy valide: {'http': 'http://18.143.215.49:80', 'https': 'http://18.143.215.49:80'}\n",
      "Proxy invalide: ereur\n",
      "Proxy valide: {'http': 'http://191.186.106.34:8080', 'https': 'http://191.186.106.34:8080'}\n",
      "Proxy valide: {'http': 'http://186.121.235.222:8080', 'https': 'http://186.121.235.222:8080'}\n",
      "8\n"
     ]
    }
   ],
   "source": [
    "valide_proxies = test_proxy(proxy_liste)"
   ]
  },
  {
   "cell_type": "code",
   "execution_count": 22,
   "id": "b66a0ae3",
   "metadata": {},
   "outputs": [
    {
     "data": {
      "text/plain": [
       "[{'http': 'http://202.46.145.4:8080', 'https': 'http://202.46.145.4:8080'},\n",
       " {'http': 'http://8.219.97.248:80', 'https': 'http://8.219.97.248:80'},\n",
       " {'http': 'http://113.53.231.133:3129', 'https': 'http://113.53.231.133:3129'},\n",
       " {'http': 'http://18.143.215.49:80', 'https': 'http://18.143.215.49:80'},\n",
       " {'http': 'http://110.34.3.229:3128', 'https': 'http://110.34.3.229:3128'}]"
      ]
     },
     "execution_count": 22,
     "metadata": {},
     "output_type": "execute_result"
    }
   ],
   "source": [
    "valide_proxies[:5]"
   ]
  },
  {
   "cell_type": "markdown",
   "id": "308af185",
   "metadata": {},
   "source": [
    "."
   ]
  },
  {
   "cell_type": "markdown",
   "id": "8823066d",
   "metadata": {},
   "source": [
    "# 2. We will now focus on the sites in which we will scrap the data\n"
   ]
  },
  {
   "cell_type": "markdown",
   "id": "f74f75f1",
   "metadata": {},
   "source": [
    "site_url : https://www.kijiji.ca/"
   ]
  },
  {
   "cell_type": "markdown",
   "id": "03dba609",
   "metadata": {},
   "source": [
    "The site structure lets us know the number of pages, so we will choose the page range policy. Thus, we can indicate which pages to scrape"
   ]
  },
  {
   "cell_type": "markdown",
   "id": "3be1b31a",
   "metadata": {},
   "source": [
    "\n",
    "."
   ]
  },
  {
   "cell_type": "code",
   "execution_count": 23,
   "id": "5fbdf0ec",
   "metadata": {},
   "outputs": [],
   "source": [
    "# This function takes as parameters the start page and the last page to scrape and returns all the pages\n",
    "def get_page_lint(starting_age, ending_page):\n",
    "    \n",
    "    all_page_link = []\n",
    "    \n",
    "    for i in range(starting_age, 1+ending_page):\n",
    "        link = f'https://www.kijiji.ca/b-cars-trucks/ontario/suv/2017__/page-{i}/k0c174l9004a68?price=__25000&kilometers=__80000'\n",
    "        all_page_link.append(link)\n",
    "        \n",
    "    return all_page_link    \n",
    "    "
   ]
  },
  {
   "cell_type": "code",
   "execution_count": 24,
   "id": "07d0b961",
   "metadata": {},
   "outputs": [],
   "source": [
    "all_page_link = get_page_lint(1,2)"
   ]
  },
  {
   "cell_type": "code",
   "execution_count": 25,
   "id": "42783835",
   "metadata": {},
   "outputs": [
    {
     "data": {
      "text/plain": [
       "['https://www.kijiji.ca/b-cars-trucks/ontario/suv/2017__/page-1/k0c174l9004a68?price=__25000&kilometers=__80000',\n",
       " 'https://www.kijiji.ca/b-cars-trucks/ontario/suv/2017__/page-2/k0c174l9004a68?price=__25000&kilometers=__80000']"
      ]
     },
     "execution_count": 25,
     "metadata": {},
     "output_type": "execute_result"
    }
   ],
   "source": [
    "all_page_link"
   ]
  },
  {
   "cell_type": "markdown",
   "id": "b2bc4849",
   "metadata": {},
   "source": [
    "."
   ]
  },
  {
   "cell_type": "code",
   "execution_count": 26,
   "id": "825793ed",
   "metadata": {},
   "outputs": [],
   "source": [
    "# let's go through each page link to get all article links\n",
    "def all_car_link(all_page_link, valide_proxies):\n",
    "    all_car_links = []\n",
    "    \n",
    "    #Loop on the list of proxies\n",
    "    proxy_cycle = cycle(valide_proxies)\n",
    "\n",
    "    \n",
    "    for page_link in all_page_link:\n",
    "        proxy = next(proxy_cycle)\n",
    "        try:     \n",
    "            response = requests.get(page_link,proxies=proxy, headers=headers)\n",
    "        except ProxyError as e:\n",
    "            response = requests.get(page_link, headers=headers)\n",
    "        soup = BeautifulSoup(response.content, 'html.parser')\n",
    "\n",
    "        all_care = soup.find_all('div', class_='search-item')\n",
    "\n",
    "        all_car_links = [\"\".join([\"https://www.kijiji.ca\", care.find('div', class_ = \"info\").find('div', class_=\"title\").find('a')['href']]) for care in all_care ]\n",
    "  \n",
    "            \n",
    "    return all_car_links"
   ]
  },
  {
   "cell_type": "markdown",
   "id": "a8084b8e",
   "metadata": {},
   "source": [
    "."
   ]
  },
  {
   "cell_type": "code",
   "execution_count": null,
   "id": "7b53d3ba",
   "metadata": {},
   "outputs": [],
   "source": [
    "all_car_links = all_car_link(all_page_link, valide_proxies)"
   ]
  },
  {
   "cell_type": "markdown",
   "id": "7cd32dbd",
   "metadata": {},
   "source": [
    "."
   ]
  },
  {
   "cell_type": "code",
   "execution_count": 9,
   "id": "8d84fb67",
   "metadata": {},
   "outputs": [],
   "source": [
    "def data_collecte(all_car_link,valide_proxies):\n",
    "    #Loop on the list of proxies\n",
    "    proxy_cycle = cycle(valide_proxies)\n",
    "    \n",
    "    titles = []\n",
    "    makes = []\n",
    "    models = []\n",
    "    kilometers = []\n",
    "    conditions = []\n",
    "    transmissions = []\n",
    "    descriptions = []\n",
    "    page_links = []\n",
    "    \n",
    "    for link in all_car_link:\n",
    "        proxy = next(proxy_cycle)\n",
    "        \n",
    "        try:     \n",
    "            car_response = requests.get(link, proxies=proxy, headers=headers)\n",
    "        except ProxyError as e:\n",
    "            response = requests.get(page_link, headers=headers)\n",
    "            time.sleep(2)\n",
    "        \n",
    "        car_soup = BeautifulSoup(car_response.content, 'html.parser')\n",
    "        overview = car_soup.find('div', class_=\"overview-2535594310\").find('div', class_=\"sc-hHfuMS gnhTxo\")\n",
    "        \n",
    "        try:\n",
    "            title = car_soup.find_all('h1', class_=\"title-2323565163\").text\n",
    "        except:\n",
    "            title =\"\"\n",
    "        try:    \n",
    "            make = overview.find(lambda tag: tag.name and tag.text == 'Make: ').find_next_sibling().text\n",
    "        except:\n",
    "            make = \"\"\n",
    "        try:    \n",
    "            model = overview.find(lambda tag: tag.name and tag.text == 'Model: ').find_next_sibling().text\n",
    "        except:\n",
    "            model =\"\"\n",
    "            \n",
    "        try:    \n",
    "            kilometer = overview.find(lambda tag: tag.name and tag.text == 'Kilometers').find_next_sibling().text\n",
    "        except:\n",
    "            kilometer =\"\"\n",
    "        try:    \n",
    "            condition = overview.find(lambda tag: tag.name and tag.text == 'Condition').find_next_sibling()\n",
    "        except:\n",
    "            condition = \"\"\n",
    "        try:    \n",
    "            transmission = overview.find(lambda tag: tag.name and tag.text == 'Transmission: ').find_next_sibling()\n",
    "        except:\n",
    "            transmission =\"\"\n",
    "        try:    \n",
    "            description = car_soup.find('div', class_=\"autosDescriptionBox-2447469030\").text\n",
    "        \n",
    "        except:\n",
    "            description = \"\"\n",
    "            \n",
    "        # Save items to list\n",
    "        titles.append(title)\n",
    "        makes.append(make)\n",
    "        models.append(model)\n",
    "        kilometers.append(kilometer)\n",
    "        conditions.append(condition)\n",
    "        transmissions.append(transmission)\n",
    "        descriptions.append(description)\n",
    "        page_links.append(link)\n",
    "        \n",
    "        time.sleep(2)\n",
    "\n",
    "        \n",
    "    #creation of the data frame    \n",
    "    dataframe = pd.DataFrame({\n",
    "                'title' : titles,\n",
    "                'make':makes,\n",
    "                'model' : models,\n",
    "                'kilometer' :kilometers,\n",
    "                'condition' : conditions,\n",
    "                'transmission' : transmissions,  \n",
    "                'description' : descriptions,\n",
    "                'page_link' : page_link\n",
    "            })  \n",
    "    \n",
    "    return dataframe"
   ]
  },
  {
   "cell_type": "code",
   "execution_count": null,
   "id": "4d86b78a",
   "metadata": {},
   "outputs": [],
   "source": [
    "dataframe = data_collecte(all_car_links)"
   ]
  },
  {
   "cell_type": "markdown",
   "id": "9df3e0c8",
   "metadata": {},
   "source": [
    "."
   ]
  },
  {
   "cell_type": "markdown",
   "id": "88deef32",
   "metadata": {},
   "source": [
    "Thanks for looking through the notebook.\n",
    "\n",
    "If you have a data collection project, do not hesitate to entrust it to me. I will provide you with both the code and the collected dataset.\n",
    "\n",
    "Gickel OKABI\n",
    "\n",
    "mail : i.gickelokabi@gmail.com"
   ]
  }
 ],
 "metadata": {
  "kernelspec": {
   "display_name": "Python 3 (ipykernel)",
   "language": "python",
   "name": "python3"
  },
  "language_info": {
   "codemirror_mode": {
    "name": "ipython",
    "version": 3
   },
   "file_extension": ".py",
   "mimetype": "text/x-python",
   "name": "python",
   "nbconvert_exporter": "python",
   "pygments_lexer": "ipython3",
   "version": "3.9.12"
  }
 },
 "nbformat": 4,
 "nbformat_minor": 5
}
