{
 "cells": [
  {
   "cell_type": "markdown",
   "id": "c22b5f14",
   "metadata": {},
   "source": [
    "Author: Gickel OKABI\n",
    "\n",
    "Python developer\n",
    "\n",
    "mail : i.gickelokabi@gmail.com"
   ]
  },
  {
   "cell_type": "markdown",
   "id": "1524b60d",
   "metadata": {},
   "source": [
    "."
   ]
  },
  {
   "cell_type": "markdown",
   "id": "4cd66ed8",
   "metadata": {},
   "source": [
    "Project :\n",
    "\n",
    "Hi,\n",
    "\n",
    "I want to get the contacts (email adress, name, phone number if any, clinic, address ) of hundreds of professionals who are on different specialized platforms:\n",
    "-  https://www.ahvma.org/find-a-holistic-veterinarian/#!directory/map/ord=lnm)  or\n",
    "- https://online.acvs.org/acvsssa/rflssareferral.query_page?P_VENDOR_TY=VETS\n",
    "\n",
    "Their email addresses are not directly on their website.\n",
    "\n",
    "It must be delivered in an excel file and email addresses must be valid.\n",
    "\n",
    "Need to be done by the end of next week.\n",
    "\n",
    "Best."
   ]
  },
  {
   "cell_type": "markdown",
   "id": "7397e3c1",
   "metadata": {},
   "source": [
    "."
   ]
  },
  {
   "cell_type": "code",
   "execution_count": 68,
   "id": "63fb20e4",
   "metadata": {},
   "outputs": [],
   "source": [
    "import re\n",
    "import requests\n",
    "from bs4 import BeautifulSoup\n",
    "import pandas as pd"
   ]
  },
  {
   "cell_type": "code",
   "execution_count": 79,
   "id": "b6117c6d",
   "metadata": {},
   "outputs": [],
   "source": [
    "headers = {\n",
    "    'Referer': 'https://www.kijiji.ca/',\n",
    "    'Sec-Ch-Ua': 'v=\"Chromium\";v=\"114\", \" Not A;Brand\";v=\"8\", \"Google Chrome\";v=\"114\"',\n",
    "\n",
    "    'Sec-Ch-Ua-Mobile': '?0',\n",
    "    'Sec-Ch-Ua-Platform': \"Windows\",\n",
    "    'Upgrade-Insecure-Requests': '1',\n",
    "    'User-Agent': 'Mozilla/5.0 (Windows NT 10.0; Win64; x64) AppleWebKit/537.36 (KHTML, like Gecko) Chrome/114.0.0.0 Safari/537.36'\n",
    "    }\n",
    "    "
   ]
  },
  {
   "cell_type": "code",
   "execution_count": 69,
   "id": "76bc8eaf",
   "metadata": {},
   "outputs": [],
   "source": [
    "# This function takes as parameters the start page and the last page to scrape and returns all the pages\n",
    "def get_page_lint(starting_age, ending_page):\n",
    "    \n",
    "    all_page_link = []\n",
    "    \n",
    "    for i in range(starting_age, 1+ending_page):\n",
    "        link = f\"https://online.acvs.org/acvsssa/rflssareferral.result_page?p_cust_id=&p_vendor_ty=VETS&p_query_ty=QUERY_PAGE&p_session_serno=1766006&p_search_serno=2080468&p_search_rule=&p_keyword=&p_city_nm=&p_state_cd=&p_zip=&p_country_cd=&p_search_latitude=&p_search_longitude=&p_email=&p_distance=500&p_page_size=100&p_page_num={i}&p_portfolio_only=&p_first_nm=&p_last_nm=&p_total_page=20\"\n",
    "        all_page_link.append(link)\n",
    "        \n",
    "    return all_page_link    "
   ]
  },
  {
   "cell_type": "code",
   "execution_count": 70,
   "id": "f09420bb",
   "metadata": {},
   "outputs": [],
   "source": [
    "all_page_link = get_page_lint(1,2)"
   ]
  },
  {
   "cell_type": "code",
   "execution_count": 74,
   "id": "a79b4fba",
   "metadata": {},
   "outputs": [],
   "source": [
    "def data_collecte(all_car_link, valide_proxies):\n",
    "    #Loop on the list of proxies\n",
    "    proxy_cycle = cycle(valide_proxies)\n",
    "    names = []\n",
    "    mails = []\n",
    "    phones = []\n",
    "    clinics = []\n",
    "    clinics_adress= []\n",
    "    for page_link in all_page_link:\n",
    "        proxy = next(proxy_cycle)\n",
    "        response =  requests.get(url, proxies=proxy, headers=headers)\n",
    "        soup = BeautifulSoup(response.content, 'html.parser')\n",
    "        veterinaries = soup.find_all('div', class_=\"aaRflResultWrapper\")\n",
    "\n",
    "        for veterinary in veterinaries:\n",
    "            try:\n",
    "                name = veterinary.find('li', class_='aaRflResultDrillDown').text.split(',')[0]\n",
    "            except:\n",
    "                name = \"\"\n",
    "            try:    \n",
    "                mail = veterinary.find('li', class_=\"aaRflResultEmail\").text\n",
    "            except:\n",
    "                mail =\"\"\n",
    "            try:    \n",
    "                phone = veterinary.find('li', class_=\"aaRflResultPhone\").text\n",
    "            except:\n",
    "                phone =\"\"\n",
    "            try:    \n",
    "                clinic = veterinary.find_all('li', class_=\"aaRflResultAddr\")\n",
    "                for c in clinic:\n",
    "                    chaine = str(c).split('<br/>')\n",
    "   \n",
    "                    if(len(chaine) > 3 and len(chaine) < 6 ):\n",
    "                        clinic_name = re.sub(r'<.*?>','', chaine[0])\n",
    "                        clinic_addr = re.sub(r'<.*?>','', \" \".join(chaine[1:]))   \n",
    "                    elif(len(chaine)  >= 6):\n",
    "                        clinic_name = re.sub(r'<.*?>','', \" \".join(chaine[0:2]))\n",
    "                        clinic_addr = re.sub(r'<.*?>','', \" \".join(chaine[2:]))  \n",
    "                    else:\n",
    "                        clinic_name = 'independent'\n",
    "                        clinic_addr = re.sub(r'<.*?>','', \" \".join(chaine[0:]))   \n",
    "            except:\n",
    "                clinic_name = \"\"\n",
    "                clinic_addr = \"\"  \n",
    "                \n",
    "            # Save items to list    \n",
    "            names.append(name)\n",
    "            mails.append(mail)\n",
    "            phones.append(phone)\n",
    "            clinics.append(clinic_name)\n",
    "            clinics_adress.append(clinic_addr)   \n",
    "    \n",
    "    #creation of the data frame \n",
    "    dataframe = pd.DataFrame({\n",
    "                'names' : names,\n",
    "                'mails':mails,\n",
    "                'phones' : phones,\n",
    "                'clinics' :clinics,\n",
    "                'clinics_adress' : clinics_adress,\n",
    "        \n",
    "            })  \n",
    "    \n",
    "    return dataframe       "
   ]
  },
  {
   "cell_type": "markdown",
   "id": "a5b92861",
   "metadata": {},
   "source": [
    "."
   ]
  },
  {
   "cell_type": "code",
   "execution_count": 75,
   "id": "8585bba2",
   "metadata": {},
   "outputs": [],
   "source": [
    "dataframe = data_collecte(all_page_link)"
   ]
  },
  {
   "cell_type": "code",
   "execution_count": 78,
   "id": "134f7b53",
   "metadata": {},
   "outputs": [
    {
     "data": {
      "text/html": [
       "<div>\n",
       "<style scoped>\n",
       "    .dataframe tbody tr th:only-of-type {\n",
       "        vertical-align: middle;\n",
       "    }\n",
       "\n",
       "    .dataframe tbody tr th {\n",
       "        vertical-align: top;\n",
       "    }\n",
       "\n",
       "    .dataframe thead th {\n",
       "        text-align: right;\n",
       "    }\n",
       "</style>\n",
       "<table border=\"1\" class=\"dataframe\">\n",
       "  <thead>\n",
       "    <tr style=\"text-align: right;\">\n",
       "      <th></th>\n",
       "      <th>names</th>\n",
       "      <th>mails</th>\n",
       "      <th>phones</th>\n",
       "      <th>clinics</th>\n",
       "      <th>clinics_adress</th>\n",
       "    </tr>\n",
       "  </thead>\n",
       "  <tbody>\n",
       "    <tr>\n",
       "      <th>0</th>\n",
       "      <td>Steven B. Abel</td>\n",
       "      <td>abelsb@sbcglobal.net</td>\n",
       "      <td>Phone:(630) 896-8541</td>\n",
       "      <td>VCA Aurora Animal Hospital</td>\n",
       "      <td>2600 W Galena Blvd Aurora, IL 60506-9013</td>\n",
       "    </tr>\n",
       "    <tr>\n",
       "      <th>1</th>\n",
       "      <td>LeeAnn W. Ablin</td>\n",
       "      <td>lablin@ameritech.net</td>\n",
       "      <td>Phone:(954) 437-9630</td>\n",
       "      <td>VCA Aurora Animal Hospital</td>\n",
       "      <td>2600 W Galena Blvd Aurora, IL 60506-9013</td>\n",
       "    </tr>\n",
       "    <tr>\n",
       "      <th>2</th>\n",
       "      <td>Gustavo A. Abuja</td>\n",
       "      <td>gustavo.abuja@gmail.com</td>\n",
       "      <td>Phone:(845) 532-5913</td>\n",
       "      <td>Rhinebeck Equine L.L.P</td>\n",
       "      <td>26 Losee Ln Rhinebeck, NY 12572-2150</td>\n",
       "    </tr>\n",
       "    <tr>\n",
       "      <th>3</th>\n",
       "      <td>Anthony E. Acquaviva</td>\n",
       "      <td></td>\n",
       "      <td>Phone:(203) 929-8600</td>\n",
       "      <td>VCA Shoreline Veterinary Referral &amp;amp; Emerge...</td>\n",
       "      <td>895 Bridgeport Ave Shelton, CT 06484-4621</td>\n",
       "    </tr>\n",
       "    <tr>\n",
       "      <th>4</th>\n",
       "      <td>Henry S. Adair III</td>\n",
       "      <td>sadair@utk.edu</td>\n",
       "      <td>Phone:(865) 974-5703</td>\n",
       "      <td>University of Tennessee</td>\n",
       "      <td>Dept Large Animal Clinical Science 2407 River ...</td>\n",
       "    </tr>\n",
       "    <tr>\n",
       "      <th>5</th>\n",
       "      <td>Emma N. Adam</td>\n",
       "      <td>emma@emmaadam.com</td>\n",
       "      <td>Phone:(484) 880-9470</td>\n",
       "      <td>Emma Adam LLC</td>\n",
       "      <td>PO Box 12243 Lexington, KY 40582-2243</td>\n",
       "    </tr>\n",
       "    <tr>\n",
       "      <th>6</th>\n",
       "      <td>David Adam-Castrillo</td>\n",
       "      <td>buckscountyequine@comcast.net</td>\n",
       "      <td>Phone:(215) 297-8470</td>\n",
       "      <td>Bucks County Equine, LLC</td>\n",
       "      <td>3161 Creamery Rd New Hope, PA 18938-5636</td>\n",
       "    </tr>\n",
       "    <tr>\n",
       "      <th>7</th>\n",
       "      <td>Krista Adamovich</td>\n",
       "      <td></td>\n",
       "      <td>Phone:(512) 892-9038</td>\n",
       "      <td>Central Texas Veterinary Speciality Hospital</td>\n",
       "      <td>4434 Frontier Trl Austin, TX 78745-1514</td>\n",
       "    </tr>\n",
       "    <tr>\n",
       "      <th>8</th>\n",
       "      <td>Aric R. Adams</td>\n",
       "      <td>aadams@emcocala.com</td>\n",
       "      <td>Phone:(352) 479-0480</td>\n",
       "      <td>Equine Medical Center of Ocala</td>\n",
       "      <td>7107 W Highway 326 Ocala, FL 34482-1244</td>\n",
       "    </tr>\n",
       "    <tr>\n",
       "      <th>9</th>\n",
       "      <td>M. Norris Adams</td>\n",
       "      <td>mnadams@vt.edu</td>\n",
       "      <td>Phone:(703) 771-6800</td>\n",
       "      <td>Equine Medical Center of Ocala</td>\n",
       "      <td>7107 W Highway 326 Ocala, FL 34482-1244</td>\n",
       "    </tr>\n",
       "  </tbody>\n",
       "</table>\n",
       "</div>"
      ],
      "text/plain": [
       "                  names                          mails                phones  \\\n",
       "0        Steven B. Abel           abelsb@sbcglobal.net  Phone:(630) 896-8541   \n",
       "1       LeeAnn W. Ablin           lablin@ameritech.net  Phone:(954) 437-9630   \n",
       "2      Gustavo A. Abuja        gustavo.abuja@gmail.com  Phone:(845) 532-5913   \n",
       "3  Anthony E. Acquaviva                                 Phone:(203) 929-8600   \n",
       "4    Henry S. Adair III                 sadair@utk.edu  Phone:(865) 974-5703   \n",
       "5          Emma N. Adam              emma@emmaadam.com  Phone:(484) 880-9470   \n",
       "6  David Adam-Castrillo  buckscountyequine@comcast.net  Phone:(215) 297-8470   \n",
       "7      Krista Adamovich                                 Phone:(512) 892-9038   \n",
       "8         Aric R. Adams            aadams@emcocala.com  Phone:(352) 479-0480   \n",
       "9       M. Norris Adams                 mnadams@vt.edu  Phone:(703) 771-6800   \n",
       "\n",
       "                                             clinics  \\\n",
       "0                         VCA Aurora Animal Hospital   \n",
       "1                         VCA Aurora Animal Hospital   \n",
       "2                             Rhinebeck Equine L.L.P   \n",
       "3  VCA Shoreline Veterinary Referral &amp; Emerge...   \n",
       "4                            University of Tennessee   \n",
       "5                                      Emma Adam LLC   \n",
       "6                           Bucks County Equine, LLC   \n",
       "7       Central Texas Veterinary Speciality Hospital   \n",
       "8                     Equine Medical Center of Ocala   \n",
       "9                     Equine Medical Center of Ocala   \n",
       "\n",
       "                                      clinics_adress  \n",
       "0          2600 W Galena Blvd Aurora, IL 60506-9013   \n",
       "1          2600 W Galena Blvd Aurora, IL 60506-9013   \n",
       "2              26 Losee Ln Rhinebeck, NY 12572-2150   \n",
       "3         895 Bridgeport Ave Shelton, CT 06484-4621   \n",
       "4  Dept Large Animal Clinical Science 2407 River ...  \n",
       "5             PO Box 12243 Lexington, KY 40582-2243   \n",
       "6          3161 Creamery Rd New Hope, PA 18938-5636   \n",
       "7           4434 Frontier Trl Austin, TX 78745-1514   \n",
       "8           7107 W Highway 326 Ocala, FL 34482-1244   \n",
       "9           7107 W Highway 326 Ocala, FL 34482-1244   "
      ]
     },
     "execution_count": 78,
     "metadata": {},
     "output_type": "execute_result"
    }
   ],
   "source": [
    "#display the first 10 lines\n",
    "dataframe.head(10)"
   ]
  },
  {
   "cell_type": "markdown",
   "id": "126777ad",
   "metadata": {},
   "source": [
    "."
   ]
  },
  {
   "cell_type": "code",
   "execution_count": null,
   "id": "6f1bef9e",
   "metadata": {},
   "outputs": [],
   "source": [
    "# Export to excel format \n",
    "dataframe.to_excel(\"donnees.csv\", index=False)"
   ]
  },
  {
   "cell_type": "markdown",
   "id": "74ab3a6b",
   "metadata": {},
   "source": [
    "."
   ]
  },
  {
   "cell_type": "markdown",
   "id": "35ec23ca",
   "metadata": {},
   "source": [
    "Thanks for looking through the notebook.\n",
    "\n",
    "If you have a data collection project, do not hesitate to entrust it to me. I will provide you with both the code and the collected dataset.\n",
    "\n",
    "Gickel OKABI\n",
    "\n",
    "mail : i.gickelokabi@gmail.com"
   ]
  }
 ],
 "metadata": {
  "kernelspec": {
   "display_name": "Python 3 (ipykernel)",
   "language": "python",
   "name": "python3"
  },
  "language_info": {
   "codemirror_mode": {
    "name": "ipython",
    "version": 3
   },
   "file_extension": ".py",
   "mimetype": "text/x-python",
   "name": "python",
   "nbconvert_exporter": "python",
   "pygments_lexer": "ipython3",
   "version": "3.9.12"
  }
 },
 "nbformat": 4,
 "nbformat_minor": 5
}
