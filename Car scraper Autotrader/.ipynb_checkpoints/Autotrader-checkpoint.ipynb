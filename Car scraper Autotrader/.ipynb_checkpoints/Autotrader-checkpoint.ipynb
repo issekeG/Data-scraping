{
 "cells": [
  {
   "cell_type": "markdown",
   "id": "e6559ca6",
   "metadata": {},
   "source": [
    "Author: Gickel OKABI\n",
    "\n",
    "Python developer\n",
    "\n",
    "mail : i.gickelokabi@gmail.com"
   ]
  },
  {
   "cell_type": "markdown",
   "id": "e49754a4",
   "metadata": {},
   "source": [
    "."
   ]
  },
  {
   "cell_type": "markdown",
   "id": "f2adc438",
   "metadata": {},
   "source": [
    "PROJECT DESCRIPTION:\n",
    "\n",
    "\n",
    "\n",
    "\n",
    "CAR SALE SCRAPING for autotrader\n",
    "We need a pyhton 3 script to get us cars for sale on the following site : autotrader.ca to save  to CSV\n",
    "\n",
    "-search limiters\n",
    "\n",
    "•\tSUV\n",
    "\n",
    "•\t2017 or newer\n",
    "\n",
    "•\tless than 80,000km\n",
    "\n",
    "•\tless than $25,000\n",
    "\n",
    "\n",
    "Autotrader\n",
    "https://www.autotrader.ca/cars/on/mississauga/?rcp=15&rcs=0&srt=4&yRng=2017%2C&pRng=%2C25000&oRng=%2C80000&prx=1000&prv=Ontario&loc=mississauga&body=SUV&hprc=True&wcp=True&sts=New-Used&inMarket=advancedSearch\n",
    "\n",
    "Details to collect\n",
    "\n",
    "1.\tPage URL\n",
    "2.\tMake\n",
    "3.\tModel\n",
    "4.\tMileage/Kilometers\n",
    "5.\tStatus/condition (e.g. new/used)\n",
    "6.\tTransmission\n",
    "7.\tDescription"
   ]
  },
  {
   "cell_type": "markdown",
   "id": "4b75ca70",
   "metadata": {},
   "source": [
    "."
   ]
  },
  {
   "cell_type": "code",
   "execution_count": 1,
   "id": "d0d551d5",
   "metadata": {},
   "outputs": [],
   "source": [
    "import re\n",
    "import requests\n",
    "from bs4 import BeautifulSoup\n",
    "import pandas as pd\n",
    "from selenium import webdriver\n",
    "import time\n",
    "from itertools import cycle\n",
    "import  json"
   ]
  },
  {
   "cell_type": "code",
   "execution_count": 2,
   "id": "3567678d",
   "metadata": {},
   "outputs": [],
   "source": [
    "headers = {\n",
    "    'Referer': 'https://www.kijiji.ca/',\n",
    "    'Sec-Ch-Ua': 'v=\"Chromium\";v=\"114\", \" Not A;Brand\";v=\"8\", \"Google Chrome\";v=\"114\"',\n",
    "\n",
    "    'Sec-Ch-Ua-Mobile': '?0',\n",
    "    'Sec-Ch-Ua-Platform': \"Windows\",\n",
    "    'Upgrade-Insecure-Requests': '1',\n",
    "    'User-Agent': 'Mozilla/5.0 (Windows NT 10.0; Win64; x64) AppleWebKit/537.36 (KHTML, like Gecko) Chrome/114.0.0.0 Safari/537.36'\n",
    "    }"
   ]
  },
  {
   "cell_type": "markdown",
   "id": "9869f92c",
   "metadata": {},
   "source": [
    "."
   ]
  },
  {
   "cell_type": "markdown",
   "id": "f7b1d504",
   "metadata": {},
   "source": [
    "# 1 : Obtain proxies"
   ]
  },
  {
   "cell_type": "markdown",
   "id": "25ad9bb6",
   "metadata": {},
   "source": [
    "First, we need to collect free proxies from the internet to avoid detection.\n",
    "\n",
    "We will use selenium to load pages that support javascript"
   ]
  },
  {
   "cell_type": "markdown",
   "id": "7847ae02",
   "metadata": {},
   "source": [
    "."
   ]
  },
  {
   "cell_type": "code",
   "execution_count": 30,
   "id": "50f88b27",
   "metadata": {},
   "outputs": [],
   "source": [
    "#Importing the necessary libraries\n",
    "\n",
    "from selenium import webdriver\n",
    "from selenium.webdriver.common.by import By\n",
    "from selenium.webdriver.support.ui import WebDriverWait\n",
    "from selenium.webdriver.chrome.options import Options\n",
    "from selenium.webdriver.support import expected_conditions as EC\n",
    "\n",
    "chrome_options = Options()\n",
    "chrome_options.add_argument(\"--headless\") \n",
    "driver = webdriver.Chrome(options=chrome_options)"
   ]
  },
  {
   "cell_type": "markdown",
   "id": "daae239f",
   "metadata": {},
   "source": [
    "."
   ]
  },
  {
   "cell_type": "markdown",
   "id": "00642922",
   "metadata": {},
   "source": [
    "The links of the selected proxy sites"
   ]
  },
  {
   "cell_type": "code",
   "execution_count": 31,
   "id": "4a4a3e56",
   "metadata": {},
   "outputs": [],
   "source": [
    "free_url = \"http://free-proxy.cz/en/proxylist/country/all/https/ping/all\"\n",
    "free_proxy_url = \"https://free-proxy-list.net/\"\n",
    "proxyscrape_url = 'https://proxyscrape.com/free-proxy-list'\n",
    "hidemy_rul = 'https://hidemy.name/en/proxy-list/?type=s#list'"
   ]
  },
  {
   "cell_type": "markdown",
   "id": "3c3962c0",
   "metadata": {},
   "source": [
    "."
   ]
  },
  {
   "cell_type": "markdown",
   "id": "0e86d577",
   "metadata": {},
   "source": [
    "## Proxyscrape"
   ]
  },
  {
   "cell_type": "code",
   "execution_count": 32,
   "id": "20dd65f3",
   "metadata": {},
   "outputs": [],
   "source": [
    "driver.get(proxyscrape_url)\n",
    "\n",
    "time.sleep(10)\n",
    "\n",
    "proxyscrape_data = pd.read_html(driver.page_source)[0]"
   ]
  },
  {
   "cell_type": "code",
   "execution_count": 33,
   "id": "d3984a6a",
   "metadata": {},
   "outputs": [
    {
     "data": {
      "text/plain": [
       "(400, 8)"
      ]
     },
     "execution_count": 33,
     "metadata": {},
     "output_type": "execute_result"
    }
   ],
   "source": [
    "proxyscrape_data.shape"
   ]
  },
  {
   "cell_type": "code",
   "execution_count": 34,
   "id": "819c18c1",
   "metadata": {},
   "outputs": [
    {
     "data": {
      "text/html": [
       "<div>\n",
       "<style scoped>\n",
       "    .dataframe tbody tr th:only-of-type {\n",
       "        vertical-align: middle;\n",
       "    }\n",
       "\n",
       "    .dataframe tbody tr th {\n",
       "        vertical-align: top;\n",
       "    }\n",
       "\n",
       "    .dataframe thead th {\n",
       "        text-align: right;\n",
       "    }\n",
       "</style>\n",
       "<table border=\"1\" class=\"dataframe\">\n",
       "  <thead>\n",
       "    <tr style=\"text-align: right;\">\n",
       "      <th></th>\n",
       "      <th>IP Address</th>\n",
       "      <th>Port</th>\n",
       "      <th>Protocol</th>\n",
       "      <th>Country</th>\n",
       "      <th>Anonymity</th>\n",
       "      <th>Latency</th>\n",
       "      <th>Uptime</th>\n",
       "      <th>Alive since</th>\n",
       "    </tr>\n",
       "  </thead>\n",
       "  <tbody>\n",
       "    <tr>\n",
       "      <th>0</th>\n",
       "      <td>137.184.142.151</td>\n",
       "      <td>3128</td>\n",
       "      <td>HTTP</td>\n",
       "      <td>United States</td>\n",
       "      <td>Anonymous</td>\n",
       "      <td>4615ms</td>\n",
       "      <td>68.8%</td>\n",
       "      <td>8 minutes</td>\n",
       "    </tr>\n",
       "    <tr>\n",
       "      <th>1</th>\n",
       "      <td>41.76.145.136</td>\n",
       "      <td>3128</td>\n",
       "      <td>HTTP</td>\n",
       "      <td>Mozambique</td>\n",
       "      <td>Anonymous</td>\n",
       "      <td>1785ms</td>\n",
       "      <td>74.8%</td>\n",
       "      <td>28 minutes</td>\n",
       "    </tr>\n",
       "    <tr>\n",
       "      <th>2</th>\n",
       "      <td>64.225.8.82</td>\n",
       "      <td>9994</td>\n",
       "      <td>HTTP</td>\n",
       "      <td>Canada</td>\n",
       "      <td>Elite</td>\n",
       "      <td>3833ms</td>\n",
       "      <td>33.1%</td>\n",
       "      <td>9 minutes</td>\n",
       "    </tr>\n",
       "    <tr>\n",
       "      <th>3</th>\n",
       "      <td>183.230.162.122</td>\n",
       "      <td>9091</td>\n",
       "      <td>HTTP</td>\n",
       "      <td>China</td>\n",
       "      <td>Elite</td>\n",
       "      <td>1075ms</td>\n",
       "      <td>71.2%</td>\n",
       "      <td>20 minutes</td>\n",
       "    </tr>\n",
       "    <tr>\n",
       "      <th>4</th>\n",
       "      <td>62.204.197.206</td>\n",
       "      <td>80</td>\n",
       "      <td>HTTP</td>\n",
       "      <td>Spain</td>\n",
       "      <td>Elite</td>\n",
       "      <td>151ms</td>\n",
       "      <td>51.3%</td>\n",
       "      <td>10 minutes</td>\n",
       "    </tr>\n",
       "  </tbody>\n",
       "</table>\n",
       "</div>"
      ],
      "text/plain": [
       "        IP Address  Port Protocol        Country  Anonymity Latency Uptime  \\\n",
       "0  137.184.142.151  3128     HTTP  United States  Anonymous  4615ms  68.8%   \n",
       "1    41.76.145.136  3128     HTTP     Mozambique  Anonymous  1785ms  74.8%   \n",
       "2      64.225.8.82  9994     HTTP         Canada      Elite  3833ms  33.1%   \n",
       "3  183.230.162.122  9091     HTTP          China      Elite  1075ms  71.2%   \n",
       "4   62.204.197.206    80     HTTP          Spain      Elite   151ms  51.3%   \n",
       "\n",
       "  Alive since  \n",
       "0   8 minutes  \n",
       "1  28 minutes  \n",
       "2   9 minutes  \n",
       "3  20 minutes  \n",
       "4  10 minutes  "
      ]
     },
     "execution_count": 34,
     "metadata": {},
     "output_type": "execute_result"
    }
   ],
   "source": [
    "proxyscrape_data.head(5)"
   ]
  },
  {
   "cell_type": "markdown",
   "id": "afa6e959",
   "metadata": {},
   "source": [
    "."
   ]
  },
  {
   "cell_type": "markdown",
   "id": "355024ee",
   "metadata": {},
   "source": [
    "## Free-proxy"
   ]
  },
  {
   "cell_type": "code",
   "execution_count": 35,
   "id": "d827c36a",
   "metadata": {},
   "outputs": [
    {
     "data": {
      "text/plain": [
       "(300, 8)"
      ]
     },
     "execution_count": 35,
     "metadata": {},
     "output_type": "execute_result"
    }
   ],
   "source": [
    "free_proxy = requests.get(free_proxy_url,  headers=headers)\n",
    "free_proxy_data = pd.read_html(free_proxy.text)[0]\n",
    "free_proxy_data.shape"
   ]
  },
  {
   "cell_type": "code",
   "execution_count": 36,
   "id": "ab26ffed",
   "metadata": {},
   "outputs": [
    {
     "data": {
      "text/html": [
       "<div>\n",
       "<style scoped>\n",
       "    .dataframe tbody tr th:only-of-type {\n",
       "        vertical-align: middle;\n",
       "    }\n",
       "\n",
       "    .dataframe tbody tr th {\n",
       "        vertical-align: top;\n",
       "    }\n",
       "\n",
       "    .dataframe thead th {\n",
       "        text-align: right;\n",
       "    }\n",
       "</style>\n",
       "<table border=\"1\" class=\"dataframe\">\n",
       "  <thead>\n",
       "    <tr style=\"text-align: right;\">\n",
       "      <th></th>\n",
       "      <th>IP Address</th>\n",
       "      <th>Port</th>\n",
       "      <th>Code</th>\n",
       "      <th>Country</th>\n",
       "      <th>Anonymity</th>\n",
       "      <th>Google</th>\n",
       "      <th>Https</th>\n",
       "      <th>Last Checked</th>\n",
       "    </tr>\n",
       "  </thead>\n",
       "  <tbody>\n",
       "    <tr>\n",
       "      <th>0</th>\n",
       "      <td>62.141.11.68</td>\n",
       "      <td>80</td>\n",
       "      <td>CZ</td>\n",
       "      <td>Czech Republic</td>\n",
       "      <td>anonymous</td>\n",
       "      <td>no</td>\n",
       "      <td>no</td>\n",
       "      <td>1 min ago</td>\n",
       "    </tr>\n",
       "    <tr>\n",
       "      <th>1</th>\n",
       "      <td>50.220.189.30</td>\n",
       "      <td>80</td>\n",
       "      <td>US</td>\n",
       "      <td>United States</td>\n",
       "      <td>anonymous</td>\n",
       "      <td>no</td>\n",
       "      <td>no</td>\n",
       "      <td>1 min ago</td>\n",
       "    </tr>\n",
       "    <tr>\n",
       "      <th>2</th>\n",
       "      <td>50.174.7.157</td>\n",
       "      <td>80</td>\n",
       "      <td>US</td>\n",
       "      <td>United States</td>\n",
       "      <td>anonymous</td>\n",
       "      <td>no</td>\n",
       "      <td>no</td>\n",
       "      <td>1 min ago</td>\n",
       "    </tr>\n",
       "    <tr>\n",
       "      <th>3</th>\n",
       "      <td>13.81.217.201</td>\n",
       "      <td>80</td>\n",
       "      <td>NL</td>\n",
       "      <td>Netherlands</td>\n",
       "      <td>elite proxy</td>\n",
       "      <td>yes</td>\n",
       "      <td>no</td>\n",
       "      <td>1 min ago</td>\n",
       "    </tr>\n",
       "    <tr>\n",
       "      <th>4</th>\n",
       "      <td>45.119.208.134</td>\n",
       "      <td>80</td>\n",
       "      <td>US</td>\n",
       "      <td>United States</td>\n",
       "      <td>anonymous</td>\n",
       "      <td>yes</td>\n",
       "      <td>no</td>\n",
       "      <td>1 min ago</td>\n",
       "    </tr>\n",
       "  </tbody>\n",
       "</table>\n",
       "</div>"
      ],
      "text/plain": [
       "       IP Address  Port Code         Country    Anonymity Google Https  \\\n",
       "0    62.141.11.68    80   CZ  Czech Republic    anonymous     no    no   \n",
       "1   50.220.189.30    80   US   United States    anonymous     no    no   \n",
       "2    50.174.7.157    80   US   United States    anonymous     no    no   \n",
       "3   13.81.217.201    80   NL     Netherlands  elite proxy    yes    no   \n",
       "4  45.119.208.134    80   US   United States    anonymous    yes    no   \n",
       "\n",
       "  Last Checked  \n",
       "0    1 min ago  \n",
       "1    1 min ago  \n",
       "2    1 min ago  \n",
       "3    1 min ago  \n",
       "4    1 min ago  "
      ]
     },
     "execution_count": 36,
     "metadata": {},
     "output_type": "execute_result"
    }
   ],
   "source": [
    "free_proxy_data.head(5)"
   ]
  },
  {
   "cell_type": "markdown",
   "id": "eaaff8bf",
   "metadata": {},
   "source": [
    "."
   ]
  },
  {
   "cell_type": "markdown",
   "id": "b702d259",
   "metadata": {},
   "source": [
    "This function takes a dataframe parameter and returns a list of proxies taking into account the ip address and the port"
   ]
  },
  {
   "cell_type": "code",
   "execution_count": 37,
   "id": "d47244a7",
   "metadata": {},
   "outputs": [],
   "source": [
    "def prox_ip_liste(dataframe, ip_col, port_col):\n",
    "    proxi_liste = []\n",
    "    for i, row in dataframe.iterrows():\n",
    "        proxi_line = {}\n",
    "        proxi_line.update({'http': f'http://{row[ip_col]}:{row[port_col]}', 'https' : f'http://{row[ip_col]}:{row[port_col]}'})\n",
    "        proxi_liste.append(proxi_line)   \n",
    "    return proxi_liste  "
   ]
  },
  {
   "cell_type": "markdown",
   "id": "0ceb97d5",
   "metadata": {},
   "source": [
    "."
   ]
  },
  {
   "cell_type": "markdown",
   "id": "78d981e4",
   "metadata": {},
   "source": [
    "This function takes a parameter the list of selected proxies, it tests the validity. then it returns the list of valid proxies"
   ]
  },
  {
   "cell_type": "code",
   "execution_count": null,
   "id": "8cfca27a",
   "metadata": {},
   "outputs": [],
   "source": [
    "def test_proxy(proxy_liste):\n",
    "    valide_proxies = []\n",
    "    url = 'https://www.kijiji.ca/'\n",
    "    i=0\n",
    "    for proxy in proxy_liste:\n",
    "        try:\n",
    "            response = requests.get(url, proxies=proxy, headers=headers, timeout=5)\n",
    "            if response.status_code == 200:\n",
    "                print('Proxy valide:', proxy)\n",
    "                valide_proxies.append(proxy)\n",
    "                i = i+1\n",
    "            else:\n",
    "                print('Proxy invalide:', proxy)\n",
    "        except requests.exceptions.RequestException as e:\n",
    "            print('Proxy invalide:', 'ereur')\n",
    "    print(i)\n",
    "    return valide_proxies"
   ]
  },
  {
   "cell_type": "markdown",
   "id": "d9b20613",
   "metadata": {},
   "source": [
    "."
   ]
  },
  {
   "cell_type": "code",
   "execution_count": null,
   "id": "61bb7ece",
   "metadata": {},
   "outputs": [],
   "source": [
    "free_proxy_frame = prox_ip_liste(free_proxy_data, \"IP Address\", \"Port\")\n",
    "proxyscrape_frame = prox_ip_liste(free_proxy_data, \"IP Address\", \"Port\")"
   ]
  },
  {
   "cell_type": "code",
   "execution_count": null,
   "id": "c451b537",
   "metadata": {},
   "outputs": [],
   "source": [
    "free_proxy_frame[:5]"
   ]
  },
  {
   "cell_type": "code",
   "execution_count": null,
   "id": "8159ee51",
   "metadata": {},
   "outputs": [],
   "source": [
    "proxyscrape_frame[:5]"
   ]
  },
  {
   "cell_type": "code",
   "execution_count": null,
   "id": "9bb62ac2",
   "metadata": {},
   "outputs": [],
   "source": [
    "proxy_liste = free_proxy_frame + proxyscrape_frame"
   ]
  },
  {
   "cell_type": "markdown",
   "id": "61d3b9e5",
   "metadata": {},
   "source": [
    "."
   ]
  },
  {
   "cell_type": "markdown",
   "id": "9454f3d8",
   "metadata": {},
   "source": [
    "We now have the list of our valid proxies"
   ]
  },
  {
   "cell_type": "code",
   "execution_count": null,
   "id": "61a654f4",
   "metadata": {},
   "outputs": [],
   "source": [
    "valide_proxies = test_proxy(proxy_liste)"
   ]
  },
  {
   "cell_type": "markdown",
   "id": "5c2e415d",
   "metadata": {},
   "source": [
    "."
   ]
  },
  {
   "cell_type": "markdown",
   "id": "e4bb55b7",
   "metadata": {},
   "source": [
    "# 2. We will now focus on the sites in which we will scrap the data\n"
   ]
  },
  {
   "cell_type": "markdown",
   "id": "9a796f78",
   "metadata": {},
   "source": [
    "The site structure allows us to know the number of pages knowing that the page increments by +15, so we will choose the page range policy. Thus, we can indicate which pages to scrape"
   ]
  },
  {
   "cell_type": "markdown",
   "id": "e5740bbb",
   "metadata": {},
   "source": [
    "."
   ]
  },
  {
   "cell_type": "code",
   "execution_count": 3,
   "id": "659a475d",
   "metadata": {},
   "outputs": [],
   "source": [
    "# This function takes as parameters the start page and the last page to scrape and returns all the pages\n",
    "def get_page_lint(starting_age, ending_page):\n",
    "    \n",
    "    all_page_link = []\n",
    "    page_number = 0\n",
    "    for i in range(starting_age, 1+ending_page):\n",
    "        \n",
    "        link = f'https://www.autotrader.ca/cars/on/mississauga/?rcp=15&rcs={page_number}&srt=4&yRng=2017%2C&pRng=%2C25000&oRng=%2C80000&prx=1000&prv=Ontario&loc=mississauga&body=SUV&hprc=True&wcp=True&sts=New-Used&inMarket=advancedSearch'\n",
    "        all_page_link.append(link)\n",
    "        page_number = page_number + 15\n",
    "    return all_page_link    \n",
    "    "
   ]
  },
  {
   "cell_type": "markdown",
   "id": "7df77e9b",
   "metadata": {},
   "source": [
    "."
   ]
  },
  {
   "cell_type": "code",
   "execution_count": 4,
   "id": "413ec9f5",
   "metadata": {},
   "outputs": [],
   "source": [
    "all_page_link = get_page_lint(1,20)"
   ]
  },
  {
   "cell_type": "markdown",
   "id": "f96ffc97",
   "metadata": {},
   "source": [
    "."
   ]
  },
  {
   "cell_type": "code",
   "execution_count": 13,
   "id": "f93924c9",
   "metadata": {},
   "outputs": [],
   "source": [
    "# let's go through each page link to get all article links\n",
    "def all_car_link(all_page_link):\n",
    "    all_car_links = []\n",
    "    \n",
    "    #Loop on the list of proxies\n",
    "    #proxy_cycle = cycle(valide_proxies)\n",
    "\n",
    "    for page_link in all_page_link:\n",
    "\n",
    "\n",
    "        response = requests.get(page_link, headers=headers)\n",
    "        \n",
    "        soup = BeautifulSoup(response.content, 'html.parser')\n",
    "        \n",
    "        \n",
    "        all_car_page = soup.find_all('div', class_ =[\"col-xs-12 result-item enhanced enhanced-listings\", \"listing-redesign-dt\" ])\n",
    "        \n",
    "        print(len(all_car_page))\n",
    "        \n",
    "        for car_page_link in all_car_page:\n",
    "            car_page = car_page_link.find('div', class_=[\"col-xs-12 result-item-inner\"])['onclick']\n",
    "            car_page = re.sub(\"window.location.href='\", 'https://www.autotrader.ca',car_page)\n",
    "            \n",
    "            all_car_links.append(car_page)\n",
    "            print(car_page)\n",
    "\n",
    "   \n",
    "    return all_car_links"
   ]
  },
  {
   "cell_type": "code",
   "execution_count": null,
   "id": "4e5603fb",
   "metadata": {
    "scrolled": true
   },
   "outputs": [],
   "source": [
    "all_car_links = all_car_link(all_page_link)"
   ]
  },
  {
   "cell_type": "code",
   "execution_count": 28,
   "id": "8f1522e0",
   "metadata": {
    "scrolled": true
   },
   "outputs": [
    {
     "data": {
      "text/plain": [
       "[\"https://www.autotrader.ca/a/nissan/qashqai/plessisville/quebec/5_56603209_200411420311706/?showcpo=ShowCpo&ncse=no&ursrc=ts&sprx=1000';\",\n",
       " \"https://www.autotrader.ca/a/nissan/rogue/toronto/ontario/5_58652758_20130613104346670/?showcpo=ShowCpo&ncse=no&ursrc=pl&urp=1&urm=8&sprx=1000';\",\n",
       " \"https://www.autotrader.ca/a/ford/escape/vaughan/ontario/5_57685634_20111118092312231/?showcpo=ShowCpo&ncse=no&ursrc=xpl&urp=2&urm=8&sprx=1000';\"]"
      ]
     },
     "execution_count": 28,
     "metadata": {},
     "output_type": "execute_result"
    }
   ],
   "source": [
    "all_car_links[:3]"
   ]
  },
  {
   "cell_type": "markdown",
   "id": "654437e8",
   "metadata": {},
   "source": [
    "."
   ]
  },
  {
   "cell_type": "code",
   "execution_count": 23,
   "id": "a44508ca",
   "metadata": {},
   "outputs": [],
   "source": [
    "def data_collecte(all_car_link,valide_proxies):\n",
    "    #Loop on the list of proxies\n",
    "    proxy_cycle = cycle(valide_proxies)\n",
    "    \n",
    "    titles = []\n",
    "    prices = []\n",
    "    makes = []\n",
    "    models = []\n",
    "    kilometers = []\n",
    "    conditions = []\n",
    "    transmissions = []\n",
    "    status_ = []\n",
    "    page_links = []\n",
    "    \n",
    "    for page_link in all_car_link :\n",
    "        proxy = next(proxy_cycle)\n",
    "        \n",
    "        \n",
    "        \n",
    "        try:\n",
    "            response = requests.get(page_link, proxies=proxy, headers=headers)\n",
    "        except ProxyError as e:\n",
    "            response = requests.get(page_link,headers=headers)\n",
    "        time.sleep(2)\n",
    "        soup = BeautifulSoup(response.content, 'html.parser')\n",
    "        \n",
    "        try:\n",
    "            title = soup.find('title').text\n",
    "        except:\n",
    "            title = \"\"\n",
    "\n",
    "        #The page returns the information to us in a javascript script and not in an html code\n",
    "        \n",
    "        try:\n",
    "\n",
    "            all_script= soup.find_all('script', type=\"text/javascript\")\n",
    "\n",
    "            for script in all_script:\n",
    "                script_content = script.string\n",
    "                if script_content:\n",
    "\n",
    "                    #the information is in a dictionary named 'hero'\n",
    "                    if 'hero' in script_content:\n",
    "                        # Use regular expressions to extract the \"hero\" dictionary\n",
    "                        pattern = r'window\\[\\'ngVdpModel\\'\\] = ({.*?});'\n",
    "                        match = re.search(pattern, script_content)\n",
    "                        if match:\n",
    "                            hero_data = match.group(1)\n",
    "                            hero_dict_data = json.loads(hero_data)\n",
    "                            hero_dict = hero_dict_data['hero']\n",
    "\n",
    "                            # extracting information from the car\n",
    "\n",
    "                            try:\n",
    "                                make =  hero_dict['make']\n",
    "                            except:\n",
    "                                make =\"\"\n",
    "\n",
    "                            try:\n",
    "                                model =  hero_dict['model']\n",
    "                            except:\n",
    "                                model = \"\"\n",
    "\n",
    "                            try:    \n",
    "                                year =  hero_dict['year']\n",
    "                            except:\n",
    "                                year = \"\"\n",
    "\n",
    "                            try:    \n",
    "                                price =  hero_dict['price']\n",
    "                            except:\n",
    "                                price = \"\"\n",
    "\n",
    "                            try:    \n",
    "                                mileage =  hero_dict['mileage']\n",
    "                            except:\n",
    "                                mileage =\"\"\n",
    "                            try:    \n",
    "                                trim =  hero_dict['trim']\n",
    "                            except:\n",
    "                                trim = \"\"\n",
    "                            try:    \n",
    "                                status =  hero_dict['status']\n",
    "                            except:\n",
    "                                status = \"\"\n",
    "\n",
    "                            titles.append(title)\n",
    "                            makes.append(make)\n",
    "                            models.append(model)\n",
    "                            kilometers.append(mileage)\n",
    "                            transmissions.append(trim)\n",
    "                            status_.append(status)\n",
    "                            page_links.append(page_link)\n",
    "                            prices.append(price)\n",
    "                            \n",
    "                            \n",
    "        except:\n",
    "            pass\n",
    "                        \n",
    "    #creation of the data frame    \n",
    "    dataframe = pd.DataFrame({\n",
    "                'title' : titles,\n",
    "                'make':makes,\n",
    "                'model' : models,\n",
    "                'kilometer' :kilometers,\n",
    "                'transmission' : transmissions,  \n",
    "                'status_' : status_,\n",
    "                'page_link' : page_links,\n",
    "                'prices' : prices\n",
    "            })  \n",
    "    \n",
    "    return dataframe\n"
   ]
  },
  {
   "cell_type": "markdown",
   "id": "436f03c1",
   "metadata": {},
   "source": [
    "."
   ]
  },
  {
   "cell_type": "code",
   "execution_count": 24,
   "id": "0c9d11d9",
   "metadata": {
    "scrolled": true
   },
   "outputs": [],
   "source": [
    "dataframe = data_collecte(all_car_links)"
   ]
  },
  {
   "cell_type": "markdown",
   "id": "4406994c",
   "metadata": {},
   "source": [
    "."
   ]
  },
  {
   "cell_type": "code",
   "execution_count": 29,
   "id": "6f8ba4d6",
   "metadata": {},
   "outputs": [
    {
     "data": {
      "text/html": [
       "<div>\n",
       "<style scoped>\n",
       "    .dataframe tbody tr th:only-of-type {\n",
       "        vertical-align: middle;\n",
       "    }\n",
       "\n",
       "    .dataframe tbody tr th {\n",
       "        vertical-align: top;\n",
       "    }\n",
       "\n",
       "    .dataframe thead th {\n",
       "        text-align: right;\n",
       "    }\n",
       "</style>\n",
       "<table border=\"1\" class=\"dataframe\">\n",
       "  <thead>\n",
       "    <tr style=\"text-align: right;\">\n",
       "      <th></th>\n",
       "      <th>title</th>\n",
       "      <th>make</th>\n",
       "      <th>model</th>\n",
       "      <th>kilometer</th>\n",
       "      <th>transmission</th>\n",
       "      <th>status_</th>\n",
       "      <th>page_link</th>\n",
       "      <th>prices</th>\n",
       "    </tr>\n",
       "  </thead>\n",
       "  <tbody>\n",
       "    <tr>\n",
       "      <th>0</th>\n",
       "      <td>2021 Nissan Qashqai S AWD MAG ET GARANTIE 5 AN...</td>\n",
       "      <td>Nissan</td>\n",
       "      <td>Qashqai</td>\n",
       "      <td>18,230 km</td>\n",
       "      <td>S AWD MAG ET GARANTIE 5 ANS AVEC KILOMETRAGE I...</td>\n",
       "      <td>Used</td>\n",
       "      <td>https://www.autotrader.ca/a/nissan/qashqai/ple...</td>\n",
       "      <td>24,950</td>\n",
       "    </tr>\n",
       "    <tr>\n",
       "      <th>1</th>\n",
       "      <td>2018 Nissan Rogue S AUTO APPLE/CRPLAY H/SEATS ...</td>\n",
       "      <td>Nissan</td>\n",
       "      <td>Rogue</td>\n",
       "      <td>65,232 km</td>\n",
       "      <td>S AUTO APPLE/CRPLAY H/SEATS BLIND SPOT CAMERA</td>\n",
       "      <td>Used</td>\n",
       "      <td>https://www.autotrader.ca/a/nissan/rogue/toron...</td>\n",
       "      <td>19,990</td>\n",
       "    </tr>\n",
       "    <tr>\n",
       "      <th>2</th>\n",
       "      <td>2017 Ford Escape 4WD  SE/Back Up Cam/ Heated S...</td>\n",
       "      <td>Ford</td>\n",
       "      <td>Escape</td>\n",
       "      <td>58,041 km</td>\n",
       "      <td>4WD  SE/Back Up Cam/ Heated Seats/ Bluetooth/C...</td>\n",
       "      <td>Used</td>\n",
       "      <td>https://www.autotrader.ca/a/ford/escape/vaugha...</td>\n",
       "      <td>20,598</td>\n",
       "    </tr>\n",
       "    <tr>\n",
       "      <th>3</th>\n",
       "      <td>2020 Nissan Kicks SV FWD, AC AUTO , SIEGES CHA...</td>\n",
       "      <td>Nissan</td>\n",
       "      <td>Kicks</td>\n",
       "      <td>39,911 km</td>\n",
       "      <td>SV FWD, AC AUTO , SIEGES CHAUFANT, BLUETOOTH</td>\n",
       "      <td>Used</td>\n",
       "      <td>https://www.autotrader.ca/a/nissan/kicks/saint...</td>\n",
       "      <td>22,486</td>\n",
       "    </tr>\n",
       "    <tr>\n",
       "      <th>4</th>\n",
       "      <td>2018 Buick Encore 1.4L + AWD + One Owner - Por...</td>\n",
       "      <td>Buick</td>\n",
       "      <td>Encore</td>\n",
       "      <td>75,505 km</td>\n",
       "      <td>1.4L + AWD + One Owner</td>\n",
       "      <td>Used</td>\n",
       "      <td>https://www.autotrader.ca/a/buick/encore/port%...</td>\n",
       "      <td>22,990</td>\n",
       "    </tr>\n",
       "    <tr>\n",
       "      <th>5</th>\n",
       "      <td>2019 Nissan Kicks SV | Backup Cam | Push Start...</td>\n",
       "      <td>Nissan</td>\n",
       "      <td>Kicks</td>\n",
       "      <td>38,276 km</td>\n",
       "      <td>SV | Backup Cam | Push Start | Climate Control</td>\n",
       "      <td>Used</td>\n",
       "      <td>https://www.autotrader.ca/a/nissan/kicks/st.%2...</td>\n",
       "      <td>23,488</td>\n",
       "    </tr>\n",
       "    <tr>\n",
       "      <th>6</th>\n",
       "      <td>2021 Hyundai Venue TREND TOIT OUVRANT A/C DEMA...</td>\n",
       "      <td>Hyundai</td>\n",
       "      <td>Venue</td>\n",
       "      <td>57,303 km</td>\n",
       "      <td>TREND TOIT OUVRANT A/C DEMARREUR A DISTANCE JA...</td>\n",
       "      <td>Used</td>\n",
       "      <td>https://www.autotrader.ca/a/hyundai/venue/mont...</td>\n",
       "      <td>24,815</td>\n",
       "    </tr>\n",
       "    <tr>\n",
       "      <th>7</th>\n",
       "      <td>2018 Ford Edge SEL/AWD/GPS/ENS. REMORQUAGE - S...</td>\n",
       "      <td>Ford</td>\n",
       "      <td>Edge</td>\n",
       "      <td>46,067 km</td>\n",
       "      <td>SEL/AWD/GPS/ENS. REMORQUAGE</td>\n",
       "      <td>Used</td>\n",
       "      <td>https://www.autotrader.ca/a/ford/edge/sherbroo...</td>\n",
       "      <td>24,988</td>\n",
       "    </tr>\n",
       "    <tr>\n",
       "      <th>8</th>\n",
       "      <td>2018 Infiniti QX60 TI NAVIGATION CAM360 453$MO...</td>\n",
       "      <td>Infiniti</td>\n",
       "      <td>QX60</td>\n",
       "      <td>72,000 km</td>\n",
       "      <td>TI NAVIGATION CAM360 453$MOIS</td>\n",
       "      <td>Used</td>\n",
       "      <td>https://www.autotrader.ca/a/infiniti/qx60/lava...</td>\n",
       "      <td>24,995</td>\n",
       "    </tr>\n",
       "    <tr>\n",
       "      <th>9</th>\n",
       "      <td>2017 Nissan Rogue KIT DE ROUE ET PNEU D'HIVER ...</td>\n",
       "      <td>Nissan</td>\n",
       "      <td>Rogue</td>\n",
       "      <td>0 km</td>\n",
       "      <td>KIT DE ROUE ET PNEU D'HIVER 16 POUCES</td>\n",
       "      <td>Used</td>\n",
       "      <td>https://www.autotrader.ca/a/nissan/rogue/notre...</td>\n",
       "      <td>600</td>\n",
       "    </tr>\n",
       "  </tbody>\n",
       "</table>\n",
       "</div>"
      ],
      "text/plain": [
       "                                               title      make    model  \\\n",
       "0  2021 Nissan Qashqai S AWD MAG ET GARANTIE 5 AN...    Nissan  Qashqai   \n",
       "1  2018 Nissan Rogue S AUTO APPLE/CRPLAY H/SEATS ...    Nissan    Rogue   \n",
       "2  2017 Ford Escape 4WD  SE/Back Up Cam/ Heated S...      Ford   Escape   \n",
       "3  2020 Nissan Kicks SV FWD, AC AUTO , SIEGES CHA...    Nissan    Kicks   \n",
       "4  2018 Buick Encore 1.4L + AWD + One Owner - Por...     Buick   Encore   \n",
       "5  2019 Nissan Kicks SV | Backup Cam | Push Start...    Nissan    Kicks   \n",
       "6  2021 Hyundai Venue TREND TOIT OUVRANT A/C DEMA...   Hyundai    Venue   \n",
       "7  2018 Ford Edge SEL/AWD/GPS/ENS. REMORQUAGE - S...      Ford     Edge   \n",
       "8  2018 Infiniti QX60 TI NAVIGATION CAM360 453$MO...  Infiniti     QX60   \n",
       "9  2017 Nissan Rogue KIT DE ROUE ET PNEU D'HIVER ...    Nissan    Rogue   \n",
       "\n",
       "   kilometer                                       transmission status_  \\\n",
       "0  18,230 km  S AWD MAG ET GARANTIE 5 ANS AVEC KILOMETRAGE I...    Used   \n",
       "1  65,232 km      S AUTO APPLE/CRPLAY H/SEATS BLIND SPOT CAMERA    Used   \n",
       "2  58,041 km  4WD  SE/Back Up Cam/ Heated Seats/ Bluetooth/C...    Used   \n",
       "3  39,911 km       SV FWD, AC AUTO , SIEGES CHAUFANT, BLUETOOTH    Used   \n",
       "4  75,505 km                             1.4L + AWD + One Owner    Used   \n",
       "5  38,276 km     SV | Backup Cam | Push Start | Climate Control    Used   \n",
       "6  57,303 km  TREND TOIT OUVRANT A/C DEMARREUR A DISTANCE JA...    Used   \n",
       "7  46,067 km                        SEL/AWD/GPS/ENS. REMORQUAGE    Used   \n",
       "8  72,000 km                      TI NAVIGATION CAM360 453$MOIS    Used   \n",
       "9       0 km              KIT DE ROUE ET PNEU D'HIVER 16 POUCES    Used   \n",
       "\n",
       "                                           page_link  prices  \n",
       "0  https://www.autotrader.ca/a/nissan/qashqai/ple...  24,950  \n",
       "1  https://www.autotrader.ca/a/nissan/rogue/toron...  19,990  \n",
       "2  https://www.autotrader.ca/a/ford/escape/vaugha...  20,598  \n",
       "3  https://www.autotrader.ca/a/nissan/kicks/saint...  22,486  \n",
       "4  https://www.autotrader.ca/a/buick/encore/port%...  22,990  \n",
       "5  https://www.autotrader.ca/a/nissan/kicks/st.%2...  23,488  \n",
       "6  https://www.autotrader.ca/a/hyundai/venue/mont...  24,815  \n",
       "7  https://www.autotrader.ca/a/ford/edge/sherbroo...  24,988  \n",
       "8  https://www.autotrader.ca/a/infiniti/qx60/lava...  24,995  \n",
       "9  https://www.autotrader.ca/a/nissan/rogue/notre...     600  "
      ]
     },
     "execution_count": 29,
     "metadata": {},
     "output_type": "execute_result"
    }
   ],
   "source": [
    "dataframe.head(10)"
   ]
  },
  {
   "cell_type": "markdown",
   "id": "5564c782",
   "metadata": {},
   "source": [
    "."
   ]
  },
  {
   "cell_type": "code",
   "execution_count": null,
   "id": "aaa259a8",
   "metadata": {},
   "outputs": [],
   "source": [
    "# Export to csv format \n",
    "dataframe.to_csv(\"donnees.csv\", index=False)"
   ]
  },
  {
   "cell_type": "markdown",
   "id": "c5ead3dd",
   "metadata": {},
   "source": [
    "."
   ]
  },
  {
   "cell_type": "markdown",
   "id": "249016ca",
   "metadata": {},
   "source": [
    "Thanks for looking through the notebook.\n",
    "\n",
    "If you have a data collection project, do not hesitate to entrust it to me. I will provide you with both the code and the collected dataset.\n",
    "\n",
    "Gickel OKABI\n",
    "\n",
    "mail : i.gickelokabi@gmail.com"
   ]
  }
 ],
 "metadata": {
  "kernelspec": {
   "display_name": "Python 3 (ipykernel)",
   "language": "python",
   "name": "python3"
  },
  "language_info": {
   "codemirror_mode": {
    "name": "ipython",
    "version": 3
   },
   "file_extension": ".py",
   "mimetype": "text/x-python",
   "name": "python",
   "nbconvert_exporter": "python",
   "pygments_lexer": "ipython3",
   "version": "3.9.12"
  }
 },
 "nbformat": 4,
 "nbformat_minor": 5
}
