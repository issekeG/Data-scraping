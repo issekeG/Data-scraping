{
 "cells": [
  {
   "cell_type": "markdown",
   "id": "93c4c323",
   "metadata": {},
   "source": [
    "Author: Gickel OKABI\n",
    "\n",
    "Python developer"
   ]
  },
  {
   "cell_type": "markdown",
   "id": "94b11439",
   "metadata": {},
   "source": [
    "."
   ]
  },
  {
   "cell_type": "markdown",
   "id": "35afc33f",
   "metadata": {},
   "source": [
    " Nous allons collecter et stocker dans un ficher excel et csv les informations des avocats sur le site :  https://www.barreaudenice.com/annuaire/avocats/\n",
    " \n",
    " Il s'agit d'un petit projet qui m'a été confié par un client.\n",
    " \n",
    " \n",
    " voici les elements à collecter : \n",
    " \n",
    " Nom & prenom:\n",
    " \n",
    " Date de prestation de serment\n",
    " \n",
    " adresse\n",
    " \n",
    " teleohone \n",
    " \n",
    " mail\n"
   ]
  },
  {
   "cell_type": "code",
   "execution_count": 1,
   "id": "60bb6e7a",
   "metadata": {},
   "outputs": [],
   "source": [
    "# Importation des bibliothèques necessaires\n",
    "import requests\n",
    "from bs4 import BeautifulSoup\n",
    "import re\n",
    "import pandas as pd"
   ]
  },
  {
   "cell_type": "markdown",
   "id": "64da8878",
   "metadata": {},
   "source": [
    "."
   ]
  },
  {
   "cell_type": "markdown",
   "id": "d5bc3c08",
   "metadata": {},
   "source": [
    "La premiere fonction nous permet de collecter tous les URLs des 107 pages disponibles sur le site.\n",
    "\n",
    "J'ai choisi cette methode car l'architecture du site est simple"
   ]
  },
  {
   "cell_type": "code",
   "execution_count": 2,
   "id": "b621d072",
   "metadata": {
    "scrolled": false
   },
   "outputs": [],
   "source": [
    "#parcourir chaque page et enregistrer les elements\n",
    "def page_link(page_debut, page_fin):\n",
    "    \n",
    "    #liste qui nous permettra de stocker les liens\n",
    "    links = []\n",
    "    \n",
    "    #range 1,107 indique l'intervalle des page disponible sur le site: \n",
    "    for i in range(page_debut,1+page_fin):\n",
    "        \n",
    "        page_link = f\"https://www.barreaudenice.com/annuaire/avocats/?fwp_paged={i}\"\n",
    "        links.append(page_link)\n",
    "        \n",
    "    #la fonction nous retourne une liste contenant tous les URLS    \n",
    "    return links"
   ]
  },
  {
   "cell_type": "markdown",
   "id": "be0e324f",
   "metadata": {},
   "source": [
    "."
   ]
  },
  {
   "cell_type": "markdown",
   "id": "d61b56cf",
   "metadata": {},
   "source": [
    "Cette fonction nous permet de parcourir la liste des liens et de collecter les elements necessaires"
   ]
  },
  {
   "cell_type": "code",
   "execution_count": 3,
   "id": "048e6587",
   "metadata": {
    "scrolled": true
   },
   "outputs": [],
   "source": [
    "#Pour chaque lien(page), nous allons collecter les informations sur les avocas\n",
    "\n",
    "def data_collecte(links):\n",
    "    \n",
    "    #creation des listes pour stocker les les informations des avocats\n",
    "    names=[]\n",
    "    oath_dates = []\n",
    "    adresses = []\n",
    "    phones = []\n",
    "    mails = []\n",
    "    \n",
    "    #parcourir la liste\n",
    "    for link in links:\n",
    "        \n",
    "        #nous effectuons la requete vers chaque lien de la page\n",
    "        page_content = requests.get(link)\n",
    "        \n",
    "        #convertir la requete en format html pour utiliser les selecteurs CSS\n",
    "        soup = BeautifulSoup(page_content.content, 'html.parser')\n",
    "        \n",
    "        #selection tous les avocats\n",
    "        \n",
    "        lawyers = soup.find_all('div',class_=[\"callout\", \"secondary\", \"annuaire-single\"])\n",
    "        \n",
    "        #selectionner les informations pour chaque avocat\n",
    "        for lawyer in lawyers:\n",
    "            try:\n",
    "                lawyer_name = lawyer.find('h3',class_=\"nom-prenom\").text.strip()\n",
    "            except:\n",
    "                lawyer_name = \"\"\n",
    "            try:    \n",
    "                lawyer_oath_date = lawyer.find('span',class_=\"date\").text.strip()\n",
    "            except:\n",
    "                lawyer_oath_date = \"\"\n",
    "            try:\n",
    "                lawyer_adress = lawyer.find('span',class_=\"adresse\").text.strip()\n",
    "                lawyer_adress = re.sub(r\"\\s+\", \" \", lawyer_adress).strip()\n",
    "            except:\n",
    "                lawyer_adress =\"\"\n",
    "            try:\n",
    "                lawyer_phone = lawyer.find('span',class_=\"telephone\").text.strip()\n",
    "                lawyer_phone = re.sub(r\"T.*?\\.\", \" \", lawyer_phone).strip()\n",
    "            except:\n",
    "                lawyer_phone =\"\"\n",
    "            try:\n",
    "                lawyer_mail = lawyer.find('span',class_=\"email\").text.strip()\n",
    "                lawyer_mail = re.sub(r\"Email.*?\\:\", \" \", lawyer_mail).strip()\n",
    "            except:\n",
    "                lawyer_mail =\"\"\n",
    "            \n",
    "            # Enregistrer les elements dans les liste\n",
    "            names.append(lawyer_name)\n",
    "            oath_dates.append(lawyer_oath_date)\n",
    "            adresses.append(lawyer_adress)\n",
    "            phones.append(lawyer_phone)\n",
    "            mails.append(lawyer_mail)\n",
    "            \n",
    "            #creation du dataframe\n",
    "            \n",
    "    dataframe = pd.DataFrame({\n",
    "                'name' : names,\n",
    "                'oath_date':oath_dates,\n",
    "                'adress' : adresses,\n",
    "                'phone' :phones,\n",
    "                'mail' : mails               \n",
    "            })    \n",
    "        \n",
    "    #la fonction retourne un dataframe que nous pouvons exporter    \n",
    "    return dataframe"
   ]
  },
  {
   "cell_type": "markdown",
   "id": "8cdbb142",
   "metadata": {},
   "source": [
    "."
   ]
  },
  {
   "cell_type": "markdown",
   "id": "72fbfde2",
   "metadata": {},
   "source": [
    "Nous allons alors excuter le code en scrappant les 107 page du site."
   ]
  },
  {
   "cell_type": "code",
   "execution_count": 4,
   "id": "261c6815",
   "metadata": {},
   "outputs": [],
   "source": [
    "#le retour de la fonction sera stocker dans une variable database\n",
    "database = data_collecte(page_link(1, 107))"
   ]
  },
  {
   "cell_type": "code",
   "execution_count": 6,
   "id": "0cd1158a",
   "metadata": {},
   "outputs": [
    {
     "data": {
      "text/plain": [
       "(1279, 5)"
      ]
     },
     "execution_count": 6,
     "metadata": {},
     "output_type": "execute_result"
    }
   ],
   "source": [
    "#afficher la taille de notre database\n",
    "database.shape"
   ]
  },
  {
   "cell_type": "markdown",
   "id": "fa54f27b",
   "metadata": {},
   "source": [
    "."
   ]
  },
  {
   "cell_type": "markdown",
   "id": "a98a3ec3",
   "metadata": {},
   "source": [
    "Nous allons afficher les 10 premieres ligne de notre database tout en sachant que nous en avons 1279"
   ]
  },
  {
   "cell_type": "code",
   "execution_count": 7,
   "id": "24c09467",
   "metadata": {},
   "outputs": [
    {
     "data": {
      "text/html": [
       "<div>\n",
       "<style scoped>\n",
       "    .dataframe tbody tr th:only-of-type {\n",
       "        vertical-align: middle;\n",
       "    }\n",
       "\n",
       "    .dataframe tbody tr th {\n",
       "        vertical-align: top;\n",
       "    }\n",
       "\n",
       "    .dataframe thead th {\n",
       "        text-align: right;\n",
       "    }\n",
       "</style>\n",
       "<table border=\"1\" class=\"dataframe\">\n",
       "  <thead>\n",
       "    <tr style=\"text-align: right;\">\n",
       "      <th></th>\n",
       "      <th>name</th>\n",
       "      <th>oath_date</th>\n",
       "      <th>adress</th>\n",
       "      <th>phone</th>\n",
       "      <th>mail</th>\n",
       "    </tr>\n",
       "  </thead>\n",
       "  <tbody>\n",
       "    <tr>\n",
       "      <th>0</th>\n",
       "      <td>ABASSIT Florian</td>\n",
       "      <td>16/01/2018</td>\n",
       "      <td>31, avenue Jean Médecin 06000 Nice</td>\n",
       "      <td>06 50 86 91 62</td>\n",
       "      <td>avocat@florian-abassit.com</td>\n",
       "    </tr>\n",
       "    <tr>\n",
       "      <th>1</th>\n",
       "      <td>ABBATI Anaïs</td>\n",
       "      <td>06/01/2012</td>\n",
       "      <td>13, rue Alphonse Karr Le Louvre 06004</td>\n",
       "      <td>04 97 03 11 50</td>\n",
       "      <td>anais.abbati@alister-avocats.eu</td>\n",
       "    </tr>\n",
       "    <tr>\n",
       "      <th>2</th>\n",
       "      <td>ABDALLAOUI Myriam</td>\n",
       "      <td>07/01/2022</td>\n",
       "      <td>8 rue Alfred Mortier 06000 Nice</td>\n",
       "      <td>04 93 80 63 01</td>\n",
       "      <td>myriam-abdallaoui@hotmail.com</td>\n",
       "    </tr>\n",
       "    <tr>\n",
       "      <th>3</th>\n",
       "      <td>ABDALLAOUI Myriam</td>\n",
       "      <td>07/01/2022</td>\n",
       "      <td>8 rue Alfred Mortier 06000 Nice</td>\n",
       "      <td>04 93 80 63 01</td>\n",
       "      <td>myriam-abdallaoui@hotmail.com</td>\n",
       "    </tr>\n",
       "    <tr>\n",
       "      <th>4</th>\n",
       "      <td>ABDOULAYE MOUSSA Abdoul Wahab</td>\n",
       "      <td>07/01/2022</td>\n",
       "      <td>16, boulevard Raimbaldi 06000 Nice</td>\n",
       "      <td>06 51 83 90 86</td>\n",
       "      <td>abdoul.abdoulayemoussa@gmail.com</td>\n",
       "    </tr>\n",
       "    <tr>\n",
       "      <th>5</th>\n",
       "      <td>ABECASSIS Charles</td>\n",
       "      <td>08/01/1988</td>\n",
       "      <td>1, Place Magenta 06000 Nice</td>\n",
       "      <td>04 93 88 30 17</td>\n",
       "      <td>ch.abk6@wanadoo.fr</td>\n",
       "    </tr>\n",
       "    <tr>\n",
       "      <th>6</th>\n",
       "      <td>ABID Samih</td>\n",
       "      <td>07/01/2002</td>\n",
       "      <td>35, rue Gioffredo 06000 Nice</td>\n",
       "      <td>04 93 87 71 06</td>\n",
       "      <td>contact@abid-avocats.com</td>\n",
       "    </tr>\n",
       "    <tr>\n",
       "      <th>7</th>\n",
       "      <td>ABIER-ROUGERON Stéphanie</td>\n",
       "      <td>15/01/2019</td>\n",
       "      <td>22, rue Gounod 06000 Nice</td>\n",
       "      <td>06 30 12 89 76</td>\n",
       "      <td>rougeronavocat@gmail.com</td>\n",
       "    </tr>\n",
       "    <tr>\n",
       "      <th>8</th>\n",
       "      <td>ABOU EL HAJA Aziza</td>\n",
       "      <td>07/03/2016</td>\n",
       "      <td>1 Boulevard Général Delfino 06300 Nice</td>\n",
       "      <td>04 93 85 70 23</td>\n",
       "      <td>aeh.avocat@gmail.com</td>\n",
       "    </tr>\n",
       "    <tr>\n",
       "      <th>9</th>\n",
       "      <td>ABRAN Grégory</td>\n",
       "      <td>14/01/2009</td>\n",
       "      <td>40, bd Victor Hugo 06000 Nice</td>\n",
       "      <td>06 15 33 07 26</td>\n",
       "      <td>abran.gregory@gmail.com</td>\n",
       "    </tr>\n",
       "  </tbody>\n",
       "</table>\n",
       "</div>"
      ],
      "text/plain": [
       "                            name   oath_date  \\\n",
       "0                ABASSIT Florian  16/01/2018   \n",
       "1                   ABBATI Anaïs  06/01/2012   \n",
       "2              ABDALLAOUI Myriam  07/01/2022   \n",
       "3              ABDALLAOUI Myriam  07/01/2022   \n",
       "4  ABDOULAYE MOUSSA Abdoul Wahab  07/01/2022   \n",
       "5              ABECASSIS Charles  08/01/1988   \n",
       "6                     ABID Samih  07/01/2002   \n",
       "7       ABIER-ROUGERON Stéphanie  15/01/2019   \n",
       "8             ABOU EL HAJA Aziza  07/03/2016   \n",
       "9                  ABRAN Grégory  14/01/2009   \n",
       "\n",
       "                                   adress           phone  \\\n",
       "0      31, avenue Jean Médecin 06000 Nice  06 50 86 91 62   \n",
       "1   13, rue Alphonse Karr Le Louvre 06004  04 97 03 11 50   \n",
       "2         8 rue Alfred Mortier 06000 Nice  04 93 80 63 01   \n",
       "3         8 rue Alfred Mortier 06000 Nice  04 93 80 63 01   \n",
       "4      16, boulevard Raimbaldi 06000 Nice  06 51 83 90 86   \n",
       "5             1, Place Magenta 06000 Nice  04 93 88 30 17   \n",
       "6            35, rue Gioffredo 06000 Nice  04 93 87 71 06   \n",
       "7               22, rue Gounod 06000 Nice  06 30 12 89 76   \n",
       "8  1 Boulevard Général Delfino 06300 Nice  04 93 85 70 23   \n",
       "9           40, bd Victor Hugo 06000 Nice  06 15 33 07 26   \n",
       "\n",
       "                               mail  \n",
       "0        avocat@florian-abassit.com  \n",
       "1   anais.abbati@alister-avocats.eu  \n",
       "2     myriam-abdallaoui@hotmail.com  \n",
       "3     myriam-abdallaoui@hotmail.com  \n",
       "4  abdoul.abdoulayemoussa@gmail.com  \n",
       "5                ch.abk6@wanadoo.fr  \n",
       "6          contact@abid-avocats.com  \n",
       "7          rougeronavocat@gmail.com  \n",
       "8              aeh.avocat@gmail.com  \n",
       "9           abran.gregory@gmail.com  "
      ]
     },
     "execution_count": 7,
     "metadata": {},
     "output_type": "execute_result"
    }
   ],
   "source": [
    "database.head(10)"
   ]
  },
  {
   "cell_type": "markdown",
   "id": "dec09a15",
   "metadata": {},
   "source": [
    "."
   ]
  },
  {
   "cell_type": "markdown",
   "id": "4129ee92",
   "metadata": {},
   "source": [
    "Nous allons exporter les données dans un fichier excel et csv"
   ]
  },
  {
   "cell_type": "code",
   "execution_count": null,
   "id": "a68e9554",
   "metadata": {},
   "outputs": [],
   "source": [
    "# Exporter les données au format Excel\n",
    "database.to_excel(\"donnees.xlsx\", index=False)\n"
   ]
  },
  {
   "cell_type": "code",
   "execution_count": null,
   "id": "9bb8e2fe",
   "metadata": {},
   "outputs": [],
   "source": [
    "# Exporter les données au format CSV\n",
    "database.to_csv(\"donnees.csv\", index=False)"
   ]
  },
  {
   "cell_type": "code",
   "execution_count": null,
   "id": "6dda1bd8",
   "metadata": {},
   "outputs": [],
   "source": []
  },
  {
   "cell_type": "markdown",
   "id": "8e5cc88a",
   "metadata": {},
   "source": [
    "Merci d'avoir parcouru le notebook\n",
    "\n",
    "Si vous avez un projet de collecte de données, n'hesiter pas de me le confier. Je vous fournirai et le code et l'ensembles des données collecté.\n",
    "\n",
    "Gickel OKABI"
   ]
  }
 ],
 "metadata": {
  "kernelspec": {
   "display_name": "Python 3 (ipykernel)",
   "language": "python",
   "name": "python3"
  },
  "language_info": {
   "codemirror_mode": {
    "name": "ipython",
    "version": 3
   },
   "file_extension": ".py",
   "mimetype": "text/x-python",
   "name": "python",
   "nbconvert_exporter": "python",
   "pygments_lexer": "ipython3",
   "version": "3.9.12"
  }
 },
 "nbformat": 4,
 "nbformat_minor": 5
}
