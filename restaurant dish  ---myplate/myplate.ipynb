{
 "cells": [
  {
   "cell_type": "markdown",
   "id": "3676f19b",
   "metadata": {},
   "source": [
    "\n",
    "Author: Gickel OKABI\n",
    "\n",
    "Python developer\n",
    "\n"
   ]
  },
  {
   "cell_type": "markdown",
   "id": "161ac4b1",
   "metadata": {},
   "source": [
    "."
   ]
  },
  {
   "cell_type": "markdown",
   "id": "736dbf86",
   "metadata": {},
   "source": [
    "customer's request : In this project you will extract a quantity of 1081 recipes from https://www.myplate.gov/myplate-kitchen/recipes. The recipes will be formatted into a single JSON or csv file containing a single recipe with fields: TItle, Image, Ingredients, Directions, Notes, and Source. The \"Source\" value will be \"USDA\" and the \"Image\" value will be a URL to the image for the recipe."
   ]
  },
  {
   "cell_type": "code",
   "execution_count": null,
   "id": "99005239",
   "metadata": {},
   "outputs": [],
   "source": []
  },
  {
   "cell_type": "code",
   "execution_count": 1,
   "id": "4c86fad7",
   "metadata": {},
   "outputs": [],
   "source": [
    "# Import necessary libraries\n",
    "\n",
    "import requests\n",
    "from bs4 import BeautifulSoup\n",
    "import pandas as pd\n",
    "import re"
   ]
  },
  {
   "cell_type": "markdown",
   "id": "7f245362",
   "metadata": {},
   "source": [
    " ."
   ]
  },
  {
   "cell_type": "markdown",
   "id": "6e0f0903",
   "metadata": {},
   "source": [
    "The first function allows us to collect the urls of the pages we want\n"
   ]
  },
  {
   "cell_type": "code",
   "execution_count": 2,
   "id": "1f54f34d",
   "metadata": {},
   "outputs": [],
   "source": [
    "def page_link(first_page,last_page):\n",
    "    urls = []\n",
    "    for i in range(first_page,1+last_page):\n",
    "        url = f\"https://www.myplate.gov/myplate-kitchen/recipes?sort_bef_combine=title_ASC&page={i}\"\n",
    "        urls.append(url)\n",
    "    return urls"
   ]
  },
  {
   "cell_type": "markdown",
   "id": "ac852e03",
   "metadata": {},
   "source": [
    "."
   ]
  },
  {
   "cell_type": "markdown",
   "id": "e68e626f",
   "metadata": {},
   "source": [
    "The second function takes the urls of the pages as parameters and returns the urls of each element\n"
   ]
  },
  {
   "cell_type": "code",
   "execution_count": 3,
   "id": "21ff4290",
   "metadata": {},
   "outputs": [],
   "source": [
    "def get_all_link(pages_links):\n",
    "\n",
    "    all_recipe = []\n",
    "    \n",
    "    #loop through all pages\n",
    "    for page_link in pages_links:\n",
    "        page_contenu = requests.get(page_link)\n",
    "        soup = BeautifulSoup(page_contenu.content, 'html.parser')\n",
    "        recipes = soup.find_all(\"div\", class_=\"views-row\") \n",
    "        for recipes_case in recipes:\n",
    "            recipe_link = recipes_case.find(\"div\", class_=\"mp-recipe-teaser__title\").find('a')['href']\n",
    "            recipe_link = \"\".join([\"https://www.myplate.gov\",recipe_link ])\n",
    "            all_recipe.append(recipe_link)\n",
    "            \n",
    "    return all_recipe        "
   ]
  },
  {
   "cell_type": "markdown",
   "id": "6c4298e2",
   "metadata": {},
   "source": [
    "."
   ]
  },
  {
   "cell_type": "markdown",
   "id": "8c4e5d74",
   "metadata": {},
   "source": [
    "The third function takes the element's link as a parameter to extract all the characteristics requested by the client\n"
   ]
  },
  {
   "cell_type": "code",
   "execution_count": 4,
   "id": "6c62408f",
   "metadata": {},
   "outputs": [],
   "source": [
    "def data_collecte(links):\n",
    "    titles = []\n",
    "    ingredients= []\n",
    "    directions = []\n",
    "    notes = []\n",
    "    sources = []\n",
    "    images  = []\n",
    "    \n",
    "    headers = {\n",
    "    'User-Agent': 'Mozilla/5.0 (Windows NT 10.0; Win64; x64) AppleWebKit/537.36 (KHTML, like Gecko) Chrome/91.0.4472.124 Safari/537.36',\n",
    "    }\n",
    "    \n",
    "    for link in links:\n",
    "        \n",
    "        response = requests.get(link,headers=headers)\n",
    "\n",
    "\n",
    "        soup = BeautifulSoup(response.content, 'html.parser')\n",
    "\n",
    "\n",
    "        # extract title\n",
    "        try:\n",
    "            title = soup.find('span', class_=[\"field field--name-title field--type-string field--label-hidden\"]).text\n",
    "        except :\n",
    "            title = \"\"\n",
    "\n",
    "\n",
    "        # extract title\n",
    "        try:\n",
    "            ingred_ul = soup.find('ul', class_=[\"field__items ingredients yyyyy\"])\n",
    "            ingredient = [re.sub(r\"\\s+\",\" \",ingredien.text.strip()) for ingredien in ingred_ul.find_all('li', class_=\"field__item\")]\n",
    "        except:\n",
    "            ingredient = \"\"\n",
    "\n",
    "        # extract directions\n",
    "        try:\n",
    "            direction = [direction.text.strip() for direction in soup.select('div.clearfix.text-formatted.field.field--name-field-instructions.field--type-text-long.field--label-above div.field__item ol li')]\n",
    "        except:\n",
    "            direction = \"\"\n",
    "\n",
    "\n",
    "        # extract note\n",
    "        try:\n",
    "            note = soup.find('div', class_= ['clearfix text-formatted field field--name-field-notes field--type-text-long field--label-above']).find('div',class_='field__item').text.strip()\n",
    "        except:\n",
    "            note =\"\"\n",
    "        # extract source\n",
    "        source = \"USBA\"\n",
    "\n",
    "        # extract image url\n",
    "        try:\n",
    "            image = soup.find('div', class_ = [\"field field--name-field-recipe-image field--type-image field--label-visually_hidden\"]).find('img')['src']\n",
    "        except:\n",
    "            image=\"\"\n",
    "        \n",
    "        # Save items to list\n",
    "        titles.append(title)\n",
    "        images.append(image)\n",
    "        ingredients.append(ingredient)\n",
    "        directions.append(direction)\n",
    "        notes.append(note)\n",
    "        sources.append(source)\n",
    "        \n",
    "    #creation of the data frame    \n",
    "    dataframe = pd.DataFrame({\n",
    "                'title' : titles,\n",
    "                'ingredients':ingredients,\n",
    "                'directions' : directions,\n",
    "                'notes' :notes,\n",
    "                'sources' : sources,\n",
    "                'image' : images  \n",
    "            })        \n",
    "        \n",
    "    return dataframe   "
   ]
  },
  {
   "cell_type": "markdown",
   "id": "960c7e1c",
   "metadata": {},
   "source": [
    "."
   ]
  },
  {
   "cell_type": "markdown",
   "id": "2d61333f",
   "metadata": {},
   "source": [
    "function \"data_collecte\" takes as parameter the list of element links returned by function \"get_all_link\" which itself takes as parameter the list of page links returned by function \"page_link\"\n"
   ]
  },
  {
   "cell_type": "code",
   "execution_count": 5,
   "id": "cec328ff",
   "metadata": {},
   "outputs": [],
   "source": [
    "dataframe = data_collecte(get_all_link(page_link(1,54)))"
   ]
  },
  {
   "cell_type": "markdown",
   "id": "e84c89c0",
   "metadata": {},
   "source": [
    "."
   ]
  },
  {
   "cell_type": "markdown",
   "id": "24a41c79",
   "metadata": {},
   "source": [
    "Display the first 10 rows of all collected data\n"
   ]
  },
  {
   "cell_type": "code",
   "execution_count": 6,
   "id": "95f50eb5",
   "metadata": {},
   "outputs": [
    {
     "data": {
      "text/html": [
       "<div>\n",
       "<style scoped>\n",
       "    .dataframe tbody tr th:only-of-type {\n",
       "        vertical-align: middle;\n",
       "    }\n",
       "\n",
       "    .dataframe tbody tr th {\n",
       "        vertical-align: top;\n",
       "    }\n",
       "\n",
       "    .dataframe thead th {\n",
       "        text-align: right;\n",
       "    }\n",
       "</style>\n",
       "<table border=\"1\" class=\"dataframe\">\n",
       "  <thead>\n",
       "    <tr style=\"text-align: right;\">\n",
       "      <th></th>\n",
       "      <th>title</th>\n",
       "      <th>ingredients</th>\n",
       "      <th>directions</th>\n",
       "      <th>notes</th>\n",
       "      <th>sources</th>\n",
       "      <th>image</th>\n",
       "    </tr>\n",
       "  </thead>\n",
       "  <tbody>\n",
       "    <tr>\n",
       "      <th>0</th>\n",
       "      <td>Apple Cranberry Salad Toss</td>\n",
       "      <td>[1 head of lettuce (about 10 cups), 2 apples (...</td>\n",
       "      <td>[Wash hands with soap and water., Toss lettuce...</td>\n",
       "      <td>Learn more about:\\nLettuce\\nApples\\nCranberrie...</td>\n",
       "      <td>USBA</td>\n",
       "      <td>https://myplate-prod.azureedge.us/sites/defaul...</td>\n",
       "    </tr>\n",
       "    <tr>\n",
       "      <th>1</th>\n",
       "      <td>Apple Crisp</td>\n",
       "      <td>[4 apples (medium), 1/4 cup oatmeal (quick coo...</td>\n",
       "      <td>[Preheat the oven to 350 °F., Grease the botto...</td>\n",
       "      <td>For different tastes, try other fruits like ch...</td>\n",
       "      <td>USBA</td>\n",
       "      <td>https://myplate-prod.azureedge.us/sites/defaul...</td>\n",
       "    </tr>\n",
       "    <tr>\n",
       "      <th>2</th>\n",
       "      <td>Apple Oatmeal Muffins</td>\n",
       "      <td>[1/2 cup milk, non-fat, 1/3 cup applesauce, 1/...</td>\n",
       "      <td>[Wash hands with soap and water., Preheat oven...</td>\n",
       "      <td>Optional toppings: raisins, walnuts.\\nLearn mo...</td>\n",
       "      <td>USBA</td>\n",
       "      <td>https://myplate-prod.azureedge.us/sites/defaul...</td>\n",
       "    </tr>\n",
       "    <tr>\n",
       "      <th>3</th>\n",
       "      <td>Apple Pistachio Crisp</td>\n",
       "      <td>[3 apples (such as Honeycrisp, cored and cut i...</td>\n",
       "      <td>[Place rack in center of oven and preheat to 3...</td>\n",
       "      <td>Serving Suggestion: Serve with an 8 oz. glass ...</td>\n",
       "      <td>USBA</td>\n",
       "      <td>https://myplate-prod.azureedge.us/sites/defaul...</td>\n",
       "    </tr>\n",
       "    <tr>\n",
       "      <th>4</th>\n",
       "      <td>Apple Salad</td>\n",
       "      <td>[2 cups apple (diced), 1 cup celery (diced), 1...</td>\n",
       "      <td>[Mix orange juice with salad dressing or mayon...</td>\n",
       "      <td>Learn more about:\\nApples\\nCelery</td>\n",
       "      <td>USBA</td>\n",
       "      <td>https://myplate-prod.azureedge.us/sites/defaul...</td>\n",
       "    </tr>\n",
       "    <tr>\n",
       "      <th>5</th>\n",
       "      <td>Apple Salad with Sweet &amp; Tangy Yogurt Dressing</td>\n",
       "      <td>[1 cup diced apple, 1 teaspoon lemon juice, 1/...</td>\n",
       "      <td>[Wash hands with soap and water., Wash apples,...</td>\n",
       "      <td>Nutrition analysis was done using 1/2 cup low-...</td>\n",
       "      <td>USBA</td>\n",
       "      <td>https://myplate-prod.azureedge.us/sites/defaul...</td>\n",
       "    </tr>\n",
       "    <tr>\n",
       "      <th>6</th>\n",
       "      <td>Apple Sandwiches</td>\n",
       "      <td>[1 medium apple, 2 tablespoons peanut butter, ...</td>\n",
       "      <td>[Wash hands with soap and water., Cut apple in...</td>\n",
       "      <td>Sprinkle the peanut butter with grated carrot,...</td>\n",
       "      <td>USBA</td>\n",
       "      <td>https://myplate-prod.azureedge.us/sites/defaul...</td>\n",
       "    </tr>\n",
       "    <tr>\n",
       "      <th>7</th>\n",
       "      <td>Apple Slice Pancakes</td>\n",
       "      <td>[1 apple (Granny Smith), 1 1/4 cups pancake mi...</td>\n",
       "      <td>[Lightly coat a griddle or skillet with cookin...</td>\n",
       "      <td>To test the griddle to see if it is hot, sprin...</td>\n",
       "      <td>USBA</td>\n",
       "      <td>https://myplate-prod.azureedge.us/sites/defaul...</td>\n",
       "    </tr>\n",
       "    <tr>\n",
       "      <th>8</th>\n",
       "      <td>Apple Tuna Sandwiches</td>\n",
       "      <td>[1 can tuna, packed in water (6.5 ounces, drai...</td>\n",
       "      <td>[Wash hands with soap and water., Wash and pee...</td>\n",
       "      <td>Learn more about:\\nLettuce\\nApples</td>\n",
       "      <td>USBA</td>\n",
       "      <td>https://myplate-prod.azureedge.us/sites/defaul...</td>\n",
       "    </tr>\n",
       "    <tr>\n",
       "      <th>9</th>\n",
       "      <td>Apple Wedges with Pumpkin Almond Butter</td>\n",
       "      <td>[]</td>\n",
       "      <td>[Mix together dip ingredients., Serve with app...</td>\n",
       "      <td>Learn more about:\\nApples</td>\n",
       "      <td>USBA</td>\n",
       "      <td>https://myplate-prod.azureedge.us/sites/defaul...</td>\n",
       "    </tr>\n",
       "  </tbody>\n",
       "</table>\n",
       "</div>"
      ],
      "text/plain": [
       "                                            title  \\\n",
       "0                      Apple Cranberry Salad Toss   \n",
       "1                                     Apple Crisp   \n",
       "2                           Apple Oatmeal Muffins   \n",
       "3                           Apple Pistachio Crisp   \n",
       "4                                     Apple Salad   \n",
       "5  Apple Salad with Sweet & Tangy Yogurt Dressing   \n",
       "6                                Apple Sandwiches   \n",
       "7                            Apple Slice Pancakes   \n",
       "8                           Apple Tuna Sandwiches   \n",
       "9         Apple Wedges with Pumpkin Almond Butter   \n",
       "\n",
       "                                         ingredients  \\\n",
       "0  [1 head of lettuce (about 10 cups), 2 apples (...   \n",
       "1  [4 apples (medium), 1/4 cup oatmeal (quick coo...   \n",
       "2  [1/2 cup milk, non-fat, 1/3 cup applesauce, 1/...   \n",
       "3  [3 apples (such as Honeycrisp, cored and cut i...   \n",
       "4  [2 cups apple (diced), 1 cup celery (diced), 1...   \n",
       "5  [1 cup diced apple, 1 teaspoon lemon juice, 1/...   \n",
       "6  [1 medium apple, 2 tablespoons peanut butter, ...   \n",
       "7  [1 apple (Granny Smith), 1 1/4 cups pancake mi...   \n",
       "8  [1 can tuna, packed in water (6.5 ounces, drai...   \n",
       "9                                                 []   \n",
       "\n",
       "                                          directions  \\\n",
       "0  [Wash hands with soap and water., Toss lettuce...   \n",
       "1  [Preheat the oven to 350 °F., Grease the botto...   \n",
       "2  [Wash hands with soap and water., Preheat oven...   \n",
       "3  [Place rack in center of oven and preheat to 3...   \n",
       "4  [Mix orange juice with salad dressing or mayon...   \n",
       "5  [Wash hands with soap and water., Wash apples,...   \n",
       "6  [Wash hands with soap and water., Cut apple in...   \n",
       "7  [Lightly coat a griddle or skillet with cookin...   \n",
       "8  [Wash hands with soap and water., Wash and pee...   \n",
       "9  [Mix together dip ingredients., Serve with app...   \n",
       "\n",
       "                                               notes sources  \\\n",
       "0  Learn more about:\\nLettuce\\nApples\\nCranberrie...    USBA   \n",
       "1  For different tastes, try other fruits like ch...    USBA   \n",
       "2  Optional toppings: raisins, walnuts.\\nLearn mo...    USBA   \n",
       "3  Serving Suggestion: Serve with an 8 oz. glass ...    USBA   \n",
       "4                  Learn more about:\\nApples\\nCelery    USBA   \n",
       "5  Nutrition analysis was done using 1/2 cup low-...    USBA   \n",
       "6  Sprinkle the peanut butter with grated carrot,...    USBA   \n",
       "7  To test the griddle to see if it is hot, sprin...    USBA   \n",
       "8                 Learn more about:\\nLettuce\\nApples    USBA   \n",
       "9                          Learn more about:\\nApples    USBA   \n",
       "\n",
       "                                               image  \n",
       "0  https://myplate-prod.azureedge.us/sites/defaul...  \n",
       "1  https://myplate-prod.azureedge.us/sites/defaul...  \n",
       "2  https://myplate-prod.azureedge.us/sites/defaul...  \n",
       "3  https://myplate-prod.azureedge.us/sites/defaul...  \n",
       "4  https://myplate-prod.azureedge.us/sites/defaul...  \n",
       "5  https://myplate-prod.azureedge.us/sites/defaul...  \n",
       "6  https://myplate-prod.azureedge.us/sites/defaul...  \n",
       "7  https://myplate-prod.azureedge.us/sites/defaul...  \n",
       "8  https://myplate-prod.azureedge.us/sites/defaul...  \n",
       "9  https://myplate-prod.azureedge.us/sites/defaul...  "
      ]
     },
     "execution_count": 6,
     "metadata": {},
     "output_type": "execute_result"
    }
   ],
   "source": [
    "dataframe.head(10)"
   ]
  },
  {
   "cell_type": "markdown",
   "id": "06ba91f5",
   "metadata": {},
   "source": [
    "."
   ]
  },
  {
   "cell_type": "code",
   "execution_count": null,
   "id": "b69bdaeb",
   "metadata": {},
   "outputs": [],
   "source": [
    "# Exporter les données au format CSV\n",
    "database.to_csv(\"donnees.csv\", index=False)"
   ]
  },
  {
   "cell_type": "markdown",
   "id": "8814c6aa",
   "metadata": {},
   "source": [
    "."
   ]
  },
  {
   "cell_type": "markdown",
   "id": "3e55d0fe",
   "metadata": {},
   "source": [
    "Thanks for looking through the notebook.\n",
    "\n",
    "If you have a data collection project, do not hesitate to entrust it to me. I will provide you with both the code and the collected dataset.\n",
    "\n",
    "Gickel OKABI"
   ]
  }
 ],
 "metadata": {
  "kernelspec": {
   "display_name": "Python 3 (ipykernel)",
   "language": "python",
   "name": "python3"
  },
  "language_info": {
   "codemirror_mode": {
    "name": "ipython",
    "version": 3
   },
   "file_extension": ".py",
   "mimetype": "text/x-python",
   "name": "python",
   "nbconvert_exporter": "python",
   "pygments_lexer": "ipython3",
   "version": "3.9.12"
  }
 },
 "nbformat": 4,
 "nbformat_minor": 5
}
