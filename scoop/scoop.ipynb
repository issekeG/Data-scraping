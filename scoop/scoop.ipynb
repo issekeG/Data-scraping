{
 "cells": [
  {
   "cell_type": "markdown",
   "id": "3ad0d01f",
   "metadata": {},
   "source": [
    "Author: Gickel OKABI\n",
    "\n",
    "Python developer"
   ]
  },
  {
   "cell_type": "markdown",
   "id": "8e13609c",
   "metadata": {},
   "source": [
    "."
   ]
  },
  {
   "cell_type": "markdown",
   "id": "7cfc75ef",
   "metadata": {},
   "source": [
    "The successful candidate will be tasked with developing a Python script that can scrape all the product information from the website www.scoop.co.za. The information to be scraped includes, but is not limited to:\n",
    "\n",
    "Product names\n",
    "Product descriptions\n",
    "Product weights and dimensions\n",
    "Product prices (various prices as they have retail and dealer pricing)\n",
    "\n",
    "The data should be saved in an easy-to-use and easy-to-read format such as a CSV file or JSON file.\n",
    "\n",
    "Finally, I will retain full ownership of the script upon completion and payment, and would like to be able to use it for future scraping tasks. Please ensure that the code is well-documented and easy to modify as needed."
   ]
  },
  {
   "cell_type": "markdown",
   "id": "699f7a8f",
   "metadata": {},
   "source": [
    "."
   ]
  },
  {
   "cell_type": "code",
   "execution_count": 5,
   "id": "2ab64175",
   "metadata": {},
   "outputs": [],
   "source": [
    "# Import necessary libraries\n",
    "\n",
    "import re\n",
    "import requests\n",
    "from bs4 import BeautifulSoup\n",
    "import pandas as pd"
   ]
  },
  {
   "cell_type": "code",
   "execution_count": null,
   "id": "7d361d88",
   "metadata": {},
   "outputs": [],
   "source": [
    "headers = {\n",
    "    'User-Agent': 'Mozilla/5.0 (Windows NT 10.0; Win64; x64) AppleWebKit/537.36 (KHTML, like Gecko) Chrome/91.0.4472.124 Safari/537.36',\n",
    "    }"
   ]
  },
  {
   "cell_type": "markdown",
   "id": "16c46567",
   "metadata": {},
   "source": [
    "."
   ]
  },
  {
   "cell_type": "markdown",
   "id": "01cba150",
   "metadata": {},
   "source": [
    "First of all, we will create a function that will allow us to extract the menus and submenus from each menu to automate searches and extract the desired information.\n"
   ]
  },
  {
   "cell_type": "code",
   "execution_count": 70,
   "id": "bc18c6f5",
   "metadata": {},
   "outputs": [],
   "source": [
    "def creat_research_option_file(url):\n",
    "    \n",
    "    \n",
    "    menu_liste = []\n",
    "    sub_menu_liste = []\n",
    "    sub_menu_link_liste = []\n",
    "    \n",
    "    req = requests.get(url, headers=headers)\n",
    "    \n",
    "    soup = BeautifulSoup(req.content, 'html.parser')\n",
    "    \n",
    "    #Extract menus\n",
    "    menu = soup.find('div', class_=[\"section-item-content nav-sections-item-content\"] , id=\"store.menu\").find('li', class_=[\"level0 nav-1 category-item first level-top parent\"])\n",
    "\n",
    "    menu_ul = menu.select('ul.level0.submenu > li')\n",
    "    \n",
    "    menu_list = [menu for menu in menu_ul]\n",
    "\n",
    "    # for all menu in a menu list\n",
    "    for m in menu_list:\n",
    "        menu_text = m.find('a').text\n",
    "    \n",
    "\n",
    "        #Select the submenus\n",
    "        sous_menu_soup = m.select('ul.level1 > li.level2')\n",
    "\n",
    "        # For all the submenu of each menu\n",
    "        sub_menu_text = [sub_menu_text.text for sub_menu_text in sous_menu_soup]\n",
    "        \n",
    "        #Get links for each category and subcategory\n",
    "        sub_menu_link = [\"\".join([sub_menu_text.find('a')['href'],'?product_list_limit=all']) for sub_menu_text in sous_menu_soup]\n",
    "        \n",
    "\n",
    "        menu_liste.append(menu_text)\n",
    "        sub_menu_liste.append(sub_menu_text)\n",
    "        sub_menu_link_liste.append(sub_menu_link)\n",
    "    \n",
    "    option_frame = pd.DataFrame({\n",
    "        'menu' : menu_liste,\n",
    "        'sub_menu' : sub_menu_liste,\n",
    "        'sub_menu_link' : sub_menu_link_liste\n",
    "    })\n",
    "    \n",
    "        \n",
    "    return option_frame"
   ]
  },
  {
   "cell_type": "markdown",
   "id": "e86e051f",
   "metadata": {},
   "source": [
    "."
   ]
  },
  {
   "cell_type": "code",
   "execution_count": null,
   "id": "9ce704ce",
   "metadata": {},
   "outputs": [],
   "source": []
  },
  {
   "cell_type": "code",
   "execution_count": 71,
   "id": "a35ff87e",
   "metadata": {},
   "outputs": [],
   "source": [
    "option_frame = creat_research_option_file(\"https://scoop.co.za/\")"
   ]
  },
  {
   "cell_type": "code",
   "execution_count": 72,
   "id": "ee0b0c32",
   "metadata": {},
   "outputs": [
    {
     "data": {
      "text/plain": [
       "(11, 3)"
      ]
     },
     "execution_count": 72,
     "metadata": {},
     "output_type": "execute_result"
    }
   ],
   "source": [
    "option_frame.shape"
   ]
  },
  {
   "cell_type": "code",
   "execution_count": 73,
   "id": "c823c005",
   "metadata": {},
   "outputs": [
    {
     "data": {
      "text/html": [
       "<div>\n",
       "<style scoped>\n",
       "    .dataframe tbody tr th:only-of-type {\n",
       "        vertical-align: middle;\n",
       "    }\n",
       "\n",
       "    .dataframe tbody tr th {\n",
       "        vertical-align: top;\n",
       "    }\n",
       "\n",
       "    .dataframe thead th {\n",
       "        text-align: right;\n",
       "    }\n",
       "</style>\n",
       "<table border=\"1\" class=\"dataframe\">\n",
       "  <thead>\n",
       "    <tr style=\"text-align: right;\">\n",
       "      <th></th>\n",
       "      <th>menu</th>\n",
       "      <th>sub_menu</th>\n",
       "      <th>sub_menu_link</th>\n",
       "    </tr>\n",
       "  </thead>\n",
       "  <tbody>\n",
       "    <tr>\n",
       "      <th>0</th>\n",
       "      <td>wired-networking</td>\n",
       "      <td>[fast-ethernet, gigabit-ethernet, poe-switches...</td>\n",
       "      <td>[https://scoop.co.za/products/wired-networking...</td>\n",
       "    </tr>\n",
       "    <tr>\n",
       "      <th>1</th>\n",
       "      <td>wireless-networking</td>\n",
       "      <td>[2,4-ghz-antennas, 5,8-ghz-wireless-antennas, ...</td>\n",
       "      <td>[https://scoop.co.za/products/wireless-network...</td>\n",
       "    </tr>\n",
       "    <tr>\n",
       "      <th>2</th>\n",
       "      <td>structured-cabling</td>\n",
       "      <td>[free-standing-cabinets, wall-mount-cabinets, ...</td>\n",
       "      <td>[https://scoop.co.za/products/structured-cabli...</td>\n",
       "    </tr>\n",
       "    <tr>\n",
       "      <th>3</th>\n",
       "      <td>fibre</td>\n",
       "      <td>[fibre-cable, fibre-flyleads, fibre-pigtails, ...</td>\n",
       "      <td>[https://scoop.co.za/products/fibre/fibre-cabl...</td>\n",
       "    </tr>\n",
       "    <tr>\n",
       "      <th>4</th>\n",
       "      <td>installation-accessories</td>\n",
       "      <td>[brackets-&amp;-masts, tape, tools, trunking, cabl...</td>\n",
       "      <td>[https://scoop.co.za/products/installation-acc...</td>\n",
       "    </tr>\n",
       "  </tbody>\n",
       "</table>\n",
       "</div>"
      ],
      "text/plain": [
       "                       menu  \\\n",
       "0          wired-networking   \n",
       "1       wireless-networking   \n",
       "2        structured-cabling   \n",
       "3                     fibre   \n",
       "4  installation-accessories   \n",
       "\n",
       "                                            sub_menu  \\\n",
       "0  [fast-ethernet, gigabit-ethernet, poe-switches...   \n",
       "1  [2,4-ghz-antennas, 5,8-ghz-wireless-antennas, ...   \n",
       "2  [free-standing-cabinets, wall-mount-cabinets, ...   \n",
       "3  [fibre-cable, fibre-flyleads, fibre-pigtails, ...   \n",
       "4  [brackets-&-masts, tape, tools, trunking, cabl...   \n",
       "\n",
       "                                       sub_menu_link  \n",
       "0  [https://scoop.co.za/products/wired-networking...  \n",
       "1  [https://scoop.co.za/products/wireless-network...  \n",
       "2  [https://scoop.co.za/products/structured-cabli...  \n",
       "3  [https://scoop.co.za/products/fibre/fibre-cabl...  \n",
       "4  [https://scoop.co.za/products/installation-acc...  "
      ]
     },
     "execution_count": 73,
     "metadata": {},
     "output_type": "execute_result"
    }
   ],
   "source": [
    "option_frame.head()\n",
    "    "
   ]
  },
  {
   "cell_type": "code",
   "execution_count": 60,
   "id": "3873da74",
   "metadata": {},
   "outputs": [
    {
     "name": "stdout",
     "output_type": "stream",
     "text": [
      "11\n"
     ]
    }
   ],
   "source": []
  },
  {
   "cell_type": "code",
   "execution_count": 56,
   "id": "71008670",
   "metadata": {},
   "outputs": [],
   "source": [
    "# former un lien de recherche à partir du dataframe\n",
    "\n",
    "base_url = \"https://scoop.co.za/products/\""
   ]
  },
  {
   "cell_type": "code",
   "execution_count": 89,
   "id": "fcb48fa8",
   "metadata": {},
   "outputs": [],
   "source": [
    "def make_like_data_frame(dataframe):\n",
    "\n",
    "    menu_liste = []\n",
    "    sub_menu_liste = []\n",
    "    sub_menu_link_liste = []\n",
    "\n",
    "    for index, row in dataframe.iterrows ():\n",
    "        sub_menu = row['sub_menu']\n",
    "        sub_menu_link = row['sub_menu_link']\n",
    "        \n",
    "        for i in range(len(sub_menu_link)):    \n",
    "            sub_menu_link_liste.append(sub_menu_link[i])\n",
    "            menu_liste.append(row['menu'])\n",
    "            sub_menu_liste.append(sub_menu[i])\n",
    "            \n",
    "    option_frame = pd.DataFrame({\n",
    "        'menu' : menu_liste,\n",
    "        'sub_menu' : sub_menu_liste,\n",
    "        'sub_menu_link' : sub_menu_link_liste\n",
    "    })\n",
    "    \n",
    "    return option_frame"
   ]
  },
  {
   "cell_type": "code",
   "execution_count": 90,
   "id": "0c67085e",
   "metadata": {},
   "outputs": [],
   "source": [
    "like_data_frame = make_like_data_frame(option_frame)"
   ]
  },
  {
   "cell_type": "code",
   "execution_count": 91,
   "id": "28be4857",
   "metadata": {},
   "outputs": [
    {
     "data": {
      "text/html": [
       "<div>\n",
       "<style scoped>\n",
       "    .dataframe tbody tr th:only-of-type {\n",
       "        vertical-align: middle;\n",
       "    }\n",
       "\n",
       "    .dataframe tbody tr th {\n",
       "        vertical-align: top;\n",
       "    }\n",
       "\n",
       "    .dataframe thead th {\n",
       "        text-align: right;\n",
       "    }\n",
       "</style>\n",
       "<table border=\"1\" class=\"dataframe\">\n",
       "  <thead>\n",
       "    <tr style=\"text-align: right;\">\n",
       "      <th></th>\n",
       "      <th>menu</th>\n",
       "      <th>sub_menu</th>\n",
       "      <th>sub_menu_link</th>\n",
       "    </tr>\n",
       "  </thead>\n",
       "  <tbody>\n",
       "    <tr>\n",
       "      <th>0</th>\n",
       "      <td>wired-networking</td>\n",
       "      <td>fast-ethernet</td>\n",
       "      <td>https://scoop.co.za/products/wired-networking/...</td>\n",
       "    </tr>\n",
       "    <tr>\n",
       "      <th>1</th>\n",
       "      <td>wired-networking</td>\n",
       "      <td>gigabit-ethernet</td>\n",
       "      <td>https://scoop.co.za/products/wired-networking/...</td>\n",
       "    </tr>\n",
       "    <tr>\n",
       "      <th>2</th>\n",
       "      <td>wired-networking</td>\n",
       "      <td>poe-switches</td>\n",
       "      <td>https://scoop.co.za/products/wired-networking/...</td>\n",
       "    </tr>\n",
       "    <tr>\n",
       "      <th>3</th>\n",
       "      <td>wired-networking</td>\n",
       "      <td>ubiquiti-unifi-switch</td>\n",
       "      <td>https://scoop.co.za/products/wired-networking/...</td>\n",
       "    </tr>\n",
       "    <tr>\n",
       "      <th>4</th>\n",
       "      <td>wired-networking</td>\n",
       "      <td>ubiquiti-edgemax</td>\n",
       "      <td>https://scoop.co.za/products/wired-networking/...</td>\n",
       "    </tr>\n",
       "  </tbody>\n",
       "</table>\n",
       "</div>"
      ],
      "text/plain": [
       "               menu               sub_menu  \\\n",
       "0  wired-networking          fast-ethernet   \n",
       "1  wired-networking       gigabit-ethernet   \n",
       "2  wired-networking           poe-switches   \n",
       "3  wired-networking  ubiquiti-unifi-switch   \n",
       "4  wired-networking       ubiquiti-edgemax   \n",
       "\n",
       "                                       sub_menu_link  \n",
       "0  https://scoop.co.za/products/wired-networking/...  \n",
       "1  https://scoop.co.za/products/wired-networking/...  \n",
       "2  https://scoop.co.za/products/wired-networking/...  \n",
       "3  https://scoop.co.za/products/wired-networking/...  \n",
       "4  https://scoop.co.za/products/wired-networking/...  "
      ]
     },
     "execution_count": 91,
     "metadata": {},
     "output_type": "execute_result"
    }
   ],
   "source": [
    "like_data_frame.head()"
   ]
  },
  {
   "cell_type": "code",
   "execution_count": 92,
   "id": "c03b120f",
   "metadata": {
    "scrolled": true
   },
   "outputs": [
    {
     "name": "stdout",
     "output_type": "stream",
     "text": [
      "https://scoop.co.za/products/wired-networking/fast-ethernet/?product_list_limit=all\n",
      "https://scoop.co.za/products/wired-networking/gigabit-ethernet/?product_list_limit=all\n",
      "https://scoop.co.za/products/wired-networking/poe-switches/?product_list_limit=all\n",
      "https://scoop.co.za/products/wired-networking/ubiquiti-unifi-switch/?product_list_limit=all\n",
      "https://scoop.co.za/products/wired-networking/ubiquiti-edgemax/?product_list_limit=all\n",
      "https://scoop.co.za/products/wired-networking/mikrotik-cloudcore/?product_list_limit=all\n",
      "https://scoop.co.za/products/wired-networking/mikrotik-rack-mount/?product_list_limit=all\n",
      "https://scoop.co.za/products/wired-networking/mikrotik-switches/?product_list_limit=all\n",
      "https://scoop.co.za/products/wired-networking/mikrotik-desktop/?product_list_limit=all\n",
      "https://scoop.co.za/products/wired-networking/mikrotik-gpen/?product_list_limit=all\n",
      "https://scoop.co.za/products/wired-networking/mikrotik-software/?product_list_limit=all\n",
      "https://scoop.co.za/products/wired-networking/powerline/?product_list_limit=all\n",
      "https://scoop.co.za/products/wireless-networking/2-4-ghz-antennas/?product_list_limit=all\n",
      "https://scoop.co.za/products/wireless-networking/5-8-ghz-antennas/?product_list_limit=all\n",
      "https://scoop.co.za/products/wireless-networking/60-ghz/?product_list_limit=all\n",
      "https://scoop.co.za/products/wireless-networking/indoor-wireless/?product_list_limit=all\n",
      "https://scoop.co.za/products/wireless-networking/lte/?product_list_limit=all\n",
      "https://scoop.co.za/products/wireless-networking/mesh/?product_list_limit=all\n",
      "https://scoop.co.za/products/wireless-networking/ubiquiti-airmax/?product_list_limit=all\n",
      "https://scoop.co.za/products/wireless-networking/ubiquiti-airmax-ac/?product_list_limit=all\n",
      "https://scoop.co.za/products/wireless-networking/ubiquiti-airfiber/?product_list_limit=all\n",
      "https://scoop.co.za/products/wireless-networking/ubiquiti-unifi/?product_list_limit=all\n",
      "https://scoop.co.za/products/wireless-networking/ubiquiti-ltu/?product_list_limit=all\n",
      "https://scoop.co.za/products/wireless-networking/mikrotik-ac/?product_list_limit=all\n",
      "https://scoop.co.za/products/wireless-networking/mikrotik-integrated/?product_list_limit=all\n",
      "https://scoop.co.za/products/wireless-networking/horn-antennas/?product_list_limit=all\n",
      "https://scoop.co.za/products/wireless-networking/shields-radomes/?product_list_limit=all\n",
      "https://scoop.co.za/products/wireless-networking/rf-connectors-cables/?product_list_limit=all\n",
      "https://scoop.co.za/products/structured-cabling/free-standing-cabinets/?product_list_limit=all\n",
      "https://scoop.co.za/products/structured-cabling/wall-mount-cabinets/?product_list_limit=all\n",
      "https://scoop.co.za/products/structured-cabling/outdoor-cabinets/?product_list_limit=all\n",
      "https://scoop.co.za/products/structured-cabling/network-cable/?product_list_limit=all\n",
      "https://scoop.co.za/products/structured-cabling/flyleads/?product_list_limit=all\n",
      "https://scoop.co.za/products/structured-cabling/rj-s-boots/?product_list_limit=all\n",
      "https://scoop.co.za/products/structured-cabling/inserts-boxes/?product_list_limit=all\n",
      "https://scoop.co.za/products/structured-cabling/cabinet-components/?product_list_limit=all\n",
      "https://scoop.co.za/products/structured-cabling/patch-panel/?product_list_limit=all\n",
      "https://scoop.co.za/products/fibre/fibre-cable/?product_list_limit=all\n",
      "https://scoop.co.za/products/fibre/fibre-flyleads/?product_list_limit=all\n",
      "https://scoop.co.za/products/fibre/pigtails/?product_list_limit=all\n",
      "https://scoop.co.za/products/fibre/sfp-modules/?product_list_limit=all\n",
      "https://scoop.co.za/products/fibre/boxes/?product_list_limit=all\n",
      "https://scoop.co.za/products/fibre/tools/?product_list_limit=all\n",
      "https://scoop.co.za/products/fibre/patch-panels/?product_list_limit=all\n",
      "https://scoop.co.za/products/fibre/connectors/?product_list_limit=all\n",
      "https://scoop.co.za/products/fibre/splitters/?product_list_limit=all\n",
      "https://scoop.co.za/products/fibre/media-converters/?product_list_limit=all\n",
      "https://scoop.co.za/products/fibre/ubiquiti-u-fibre/?product_list_limit=all\n",
      "https://scoop.co.za/products/fibre/mikrotik-fibre/?product_list_limit=all\n",
      "https://scoop.co.za/products/installation-accessories/brackets-masts/?product_list_limit=all\n",
      "https://scoop.co.za/products/installation-accessories/tape/?product_list_limit=all\n",
      "https://scoop.co.za/products/installation-accessories/tools/?product_list_limit=all\n",
      "https://scoop.co.za/products/installation-accessories/trunking/?product_list_limit=all\n",
      "https://scoop.co.za/products/installation-accessories/cable-ties/?product_list_limit=all\n",
      "https://scoop.co.za/products/power-equipment/cables/?product_list_limit=all\n",
      "https://scoop.co.za/products/power-equipment/multiplugs-adapters/?product_list_limit=all\n",
      "https://scoop.co.za/products/power-equipment/poe-injectors/?product_list_limit=all\n",
      "https://scoop.co.za/products/power-equipment/power-supplies/?product_list_limit=all\n",
      "https://scoop.co.za/products/power-equipment/batteries-backup/?product_list_limit=all\n",
      "https://scoop.co.za/products/ip-security/ubiquiti-unifi-protect/?product_list_limit=all\n",
      "https://scoop.co.za/products/ip-security/nvr/?product_list_limit=all\n",
      "https://scoop.co.za/products/ip-security/security/?product_list_limit=all\n",
      "https://scoop.co.za/products/voice-over-ip/ip-phones/?product_list_limit=all\n",
      "https://scoop.co.za/products/internet-of-things/lorawan/?product_list_limit=all\n",
      "https://scoop.co.za/products/internet-of-things/bluetooth-ble/?product_list_limit=all\n",
      "https://scoop.co.za/products/certified-training/ubiquiti-courses/?product_list_limit=all\n",
      "https://scoop.co.za/products/certified-training/mikrotik-courses/?product_list_limit=all\n"
     ]
    }
   ],
   "source": [
    "for link in like_data_frame['sub_menu_link']:\n",
    "    print(link)"
   ]
  },
  {
   "cell_type": "markdown",
   "id": "fa85af2c",
   "metadata": {},
   "source": [
    "."
   ]
  },
  {
   "cell_type": "markdown",
   "id": "f2026b1c",
   "metadata": {},
   "source": [
    "Maintenant nous pouvons scraper les données sur tout le site car nous avons toutes les combinaisons de recherches possible."
   ]
  },
  {
   "cell_type": "code",
   "execution_count": 135,
   "id": "e4d7e1f1",
   "metadata": {
    "scrolled": true
   },
   "outputs": [],
   "source": [
    "def data_collecte(links):\n",
    "    Product_names = []\n",
    "    Product_descriptions = []\n",
    "    Dealer_Excl_VATs = []\n",
    "    Retail_Price_Incl_VATs = []\n",
    "    Product_specifications = []\n",
    "    for url in links:\n",
    "        req = requests.get(url, headers=headers)\n",
    "        soup_ = BeautifulSoup(req.content, 'html.parser')\n",
    "        products = soup_.find_all('li', class_=[\"item product product-item\"])\n",
    "        for product in products:\n",
    "            product_link = product.find('div', class_=[\"product-item-info\"]).find('a')['href']\n",
    "            product_link_contenu = requests.get(product_link, headers=headers)\n",
    "            product_soup = BeautifulSoup(product_link_contenu.content, 'html.parser')\n",
    "\n",
    "\n",
    "            product_name = product_soup.find('div', class_ = [\"page-title-wrapper product\"]).text\n",
    "            Product_description = product_soup.find('div', class_=[\"product attribute description\"]).text\n",
    "\n",
    "            product_price = [re.sub(r\"\\n\",\"\",prices.text) for prices in product_soup.find_all('div', class_=[\"product-item-final-price\"])]\n",
    "\n",
    "            Dealer_Excl_VAT = product_price[0].split(':')[-1] \n",
    "            Retail_Price_Incl_VAT = product_prices[1].split(':')[-1] \n",
    "\n",
    "            Product_info = product_soup.select('td.col.data[data-th = \"Specifications\"]')\n",
    "\n",
    "            Product_specification = [info.text for info in Product_info]\n",
    "            \n",
    "            \n",
    "            Product_names.append(product_name)\n",
    "            Product_descriptions.append(Product_description)\n",
    "            Dealer_Excl_VATs.append(Dealer_Excl_VAT)\n",
    "            Retail_Price_Incl_VATs.append(Retail_Price_Incl_VAT)\n",
    "            Product_specifications.append(Product_specification)\n",
    "            \n",
    "\n",
    "    dataframe = pd.DataFrame({\n",
    "                'Product_names' : Product_names,\n",
    "                'Product_descriptions':Product_descriptions,\n",
    "                'Dealer_Excl_VATs' : Dealer_Excl_VATs,\n",
    "                'Retail_Price_Incl_VATs' :Retail_Price_Incl_VATs,\n",
    "                'Product_specifications' : Product_specifications,\n",
    "            })        \n",
    "        \n",
    "    return dataframe   \n",
    "\n",
    "    "
   ]
  },
  {
   "cell_type": "markdown",
   "id": "c2b4f08f",
   "metadata": {},
   "source": [
    "Function 1 takes as a parameter the dataframe containing the whole combination of searches\n"
   ]
  },
  {
   "cell_type": "code",
   "execution_count": 137,
   "id": "4ca33c41",
   "metadata": {},
   "outputs": [],
   "source": [
    "dataframe = data_collecte(like_data_frame['sub_menu_link'])"
   ]
  },
  {
   "cell_type": "code",
   "execution_count": 138,
   "id": "fa7a691a",
   "metadata": {},
   "outputs": [
    {
     "data": {
      "text/html": [
       "<div>\n",
       "<style scoped>\n",
       "    .dataframe tbody tr th:only-of-type {\n",
       "        vertical-align: middle;\n",
       "    }\n",
       "\n",
       "    .dataframe tbody tr th {\n",
       "        vertical-align: top;\n",
       "    }\n",
       "\n",
       "    .dataframe thead th {\n",
       "        text-align: right;\n",
       "    }\n",
       "</style>\n",
       "<table border=\"1\" class=\"dataframe\">\n",
       "  <thead>\n",
       "    <tr style=\"text-align: right;\">\n",
       "      <th></th>\n",
       "      <th>Product_names</th>\n",
       "      <th>Product_descriptions</th>\n",
       "      <th>Dealer_Excl_VATs</th>\n",
       "      <th>Retail_Price_Incl_VATs</th>\n",
       "      <th>Product_specifications</th>\n",
       "    </tr>\n",
       "  </thead>\n",
       "  <tbody>\n",
       "    <tr>\n",
       "      <th>0</th>\n",
       "      <td>\\n\\nTenda 16 Port Fast Ethernet Desktop Switch...</td>\n",
       "      <td>\\nScoop's S16 by Tenda is a 16-port Desktop Et...</td>\n",
       "      <td>R450.00</td>\n",
       "      <td>R7,150.00</td>\n",
       "      <td>[Ethernet Ports: 16x 10/100\\r\\nHardware Button...</td>\n",
       "    </tr>\n",
       "    <tr>\n",
       "      <th>1</th>\n",
       "      <td>\\n\\nTenda 16 Port Fast Ethernet Rack Mount Swi...</td>\n",
       "      <td>\\nTenda's TEF1016D is a 16-Port 10/100Mbps Fas...</td>\n",
       "      <td>R750.00</td>\n",
       "      <td>R7,150.00</td>\n",
       "      <td>[Ethernet Ports: 16x 10/100\\r\\nHardware Button...</td>\n",
       "    </tr>\n",
       "    <tr>\n",
       "      <th>2</th>\n",
       "      <td>\\n\\nCudy 16 Port Gigabit Rack-Mount Switch | G...</td>\n",
       "      <td>\\nCudy's CD-GS1016 is a 16 Port Gigabit Switch...</td>\n",
       "      <td>R1,085.00</td>\n",
       "      <td>R7,150.00</td>\n",
       "      <td>[Ethernet Ports: 16x 10/100/1000 \\r\\nHardware ...</td>\n",
       "    </tr>\n",
       "    <tr>\n",
       "      <th>3</th>\n",
       "      <td>\\n\\nCudy 24 Port Gigabit Rack-Mount Switch | G...</td>\n",
       "      <td>\\nCudy's CD-GS1024 is a 24 Port Gigabit Switch...</td>\n",
       "      <td>R1,425.00</td>\n",
       "      <td>R7,150.00</td>\n",
       "      <td>[Ethernet Ports: 24x 10/100/1000 \\r\\nHardware ...</td>\n",
       "    </tr>\n",
       "    <tr>\n",
       "      <th>4</th>\n",
       "      <td>\\n\\nCudy 5 Port Gigabit Desktop Switch | GS105...</td>\n",
       "      <td>\\nEstimated Arrival: 19 June at our Midrand Br...</td>\n",
       "      <td>R250.00</td>\n",
       "      <td>R7,150.00</td>\n",
       "      <td>[Ethernet Ports: 5x 10/100/1000 \\r\\nHardware B...</td>\n",
       "    </tr>\n",
       "  </tbody>\n",
       "</table>\n",
       "</div>"
      ],
      "text/plain": [
       "                                       Product_names  \\\n",
       "0  \\n\\nTenda 16 Port Fast Ethernet Desktop Switch...   \n",
       "1  \\n\\nTenda 16 Port Fast Ethernet Rack Mount Swi...   \n",
       "2  \\n\\nCudy 16 Port Gigabit Rack-Mount Switch | G...   \n",
       "3  \\n\\nCudy 24 Port Gigabit Rack-Mount Switch | G...   \n",
       "4  \\n\\nCudy 5 Port Gigabit Desktop Switch | GS105...   \n",
       "\n",
       "                                Product_descriptions Dealer_Excl_VATs  \\\n",
       "0  \\nScoop's S16 by Tenda is a 16-port Desktop Et...          R450.00   \n",
       "1  \\nTenda's TEF1016D is a 16-Port 10/100Mbps Fas...          R750.00   \n",
       "2  \\nCudy's CD-GS1016 is a 16 Port Gigabit Switch...        R1,085.00   \n",
       "3  \\nCudy's CD-GS1024 is a 24 Port Gigabit Switch...        R1,425.00   \n",
       "4  \\nEstimated Arrival: 19 June at our Midrand Br...          R250.00   \n",
       "\n",
       "          Retail_Price_Incl_VATs  \\\n",
       "0              R7,150.00           \n",
       "1              R7,150.00           \n",
       "2              R7,150.00           \n",
       "3              R7,150.00           \n",
       "4              R7,150.00           \n",
       "\n",
       "                              Product_specifications  \n",
       "0  [Ethernet Ports: 16x 10/100\\r\\nHardware Button...  \n",
       "1  [Ethernet Ports: 16x 10/100\\r\\nHardware Button...  \n",
       "2  [Ethernet Ports: 16x 10/100/1000 \\r\\nHardware ...  \n",
       "3  [Ethernet Ports: 24x 10/100/1000 \\r\\nHardware ...  \n",
       "4  [Ethernet Ports: 5x 10/100/1000 \\r\\nHardware B...  "
      ]
     },
     "execution_count": 138,
     "metadata": {},
     "output_type": "execute_result"
    }
   ],
   "source": [
    "dataframe.head()"
   ]
  },
  {
   "cell_type": "markdown",
   "id": "517a8fee",
   "metadata": {},
   "source": [
    "."
   ]
  },
  {
   "cell_type": "markdown",
   "id": "3c5ae519",
   "metadata": {},
   "source": [
    "Thanks for looking through the notebook.\n",
    "\n",
    "If you have a data collection project, do not hesitate to entrust it to me. I will provide you with both the code and the collected dataset.\n",
    "\n",
    "Gickel OKABI"
   ]
  }
 ],
 "metadata": {
  "kernelspec": {
   "display_name": "Python 3 (ipykernel)",
   "language": "python",
   "name": "python3"
  },
  "language_info": {
   "codemirror_mode": {
    "name": "ipython",
    "version": 3
   },
   "file_extension": ".py",
   "mimetype": "text/x-python",
   "name": "python",
   "nbconvert_exporter": "python",
   "pygments_lexer": "ipython3",
   "version": "3.9.12"
  }
 },
 "nbformat": 4,
 "nbformat_minor": 5
}
